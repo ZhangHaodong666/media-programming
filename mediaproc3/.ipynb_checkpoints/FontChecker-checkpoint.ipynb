{
 "cells": [
  {
   "cell_type": "markdown",
   "metadata": {},
   "source": [
    "# matplotlibで利用可能な日本語フォント\n",
    "\n",
    "<font color='red'>このファイルはWindows / MacOS用です!!</font><BR>\n",
    "\n",
    "matplotlibで描画するグラフに日本語文字を張りたい場合は、\n",
    "使用するフォントの種類に日本語が書き出し可能なフォントを指定する必要があります。\n",
    "\n",
    "## 1. 現状の確認方法\n",
    "まず、現在の設定は以下で確認できます。"
   ]
  },
  {
   "cell_type": "code",
   "execution_count": 8,
   "metadata": {},
   "outputs": [
    {
     "name": "stdout",
     "output_type": "stream",
     "text": [
      "デフォルトのフォントファミリー ['sans-serif']\n",
      "sans-serifのフォントリスト（最初のものから順に優先）： ['DejaVu Sans', 'Bitstream Vera Sans', 'Computer Modern Sans Serif', 'Lucida Grande', 'Verdana', 'Geneva', 'Lucid', 'Arial', 'Helvetica', 'Avant Garde', 'sans-serif']\n"
     ]
    }
   ],
   "source": [
    "import matplotlib as plt\n",
    "print('デフォルトのフォントファミリー',plt.rcParams[\"font.family\"])\n",
    "print('sans-serifのフォントリスト（最初のものから順に優先）：',plt.rcParams[\"font.sans-serif\"])"
   ]
  },
  {
   "cell_type": "markdown",
   "metadata": {},
   "source": [
    "デフォルトのフォントファミリーは'sans-serif'となっているのではないでしょうか？\n",
    "\n",
    "アルファベットの大分類には「serif」「sans-serif」「cursive」「fantasy」「monospace」があり、ここで指定しているのはこの大分類です。   \n",
    "日本語フォントうち、「MSゴシック」や「游ゴシック」「HGPゴシックE」のようなゴシック体は「sans-serif」フォントの一つですし、「MS明朝」や「游明朝」「HGP明朝E」のような明朝体は「serif」フォントの一つです。\n",
    "\n",
    "sans-serifが指定されると、今度はfont.sans-serifのリストを参照し、リストの上から順に、インストール済みのフォントが使われることになります。   \n",
    "ここに日本語を書き出し可能なフォントが含まれていないので、デフォルトのままだと日本語文字が「□」になってしまいます。\n",
    "\n"
   ]
  },
  {
   "cell_type": "markdown",
   "metadata": {},
   "source": [
    "## 2. 使用できるフォントの確認\n",
    "\n",
    "どのフォントが使用できるかは、それぞれのPCの環境によって異なります。   \n",
    "以下のセルを実行し、使用できるフォントのリストを表示してください。   \n",
    "\n",
    "この中で、「Gothic」や「Mincho」が含まれているフォントは、日本語が書き出せるフォントだと思います（違ったら私の理解が間違っているので、お手数ですがメッセージにてご報告を！）。"
   ]
  },
  {
   "cell_type": "code",
   "execution_count": 9,
   "metadata": {},
   "outputs": [
    {
     "name": "stdout",
     "output_type": "stream",
     "text": [
      "['STIXGeneral', 'DejaVu Serif', 'STIXSizeThreeSym', 'cmmi10', 'STIXNonUnicode', 'DejaVu Sans Mono', 'STIXNonUnicode', 'cmss10', 'STIXGeneral', 'DejaVu Serif', 'DejaVu Sans Mono', 'STIXSizeFourSym', 'STIXNonUnicode', 'DejaVu Sans', 'DejaVu Serif', 'DejaVu Sans Mono', 'STIXSizeFourSym', 'STIXSizeFiveSym', 'STIXSizeTwoSym', 'cmex10', 'STIXSizeTwoSym', 'cmtt10', 'DejaVu Sans Mono', 'DejaVu Sans Display', 'DejaVu Serif Display', 'STIXGeneral', 'DejaVu Sans', 'DejaVu Serif', 'STIXSizeOneSym', 'STIXNonUnicode', 'cmsy10', 'STIXSizeOneSym', 'STIXSizeThreeSym', 'DejaVu Sans', 'STIXGeneral', 'DejaVu Sans', 'cmb10', 'cmr10', 'Dubai', 'MS Outlook', 'Perpetua', 'Franklin Gothic Demi', 'Bodoni MT', 'Broadway', 'Playbill', 'Century Gothic', 'Lucida Sans', 'Corbel', 'MT Extra', 'Comic Sans MS', 'Leelawadee UI', 'Rage Italic', 'Palatino Linotype', 'OCR A Extended', 'Ink Free', 'HGGothicE', 'Poor Richard', 'Blackadder ITC', 'Calibri', 'Elephant', 'Yu Mincho', 'Haettenschweiler', 'Myanmar Text', 'Harlow Solid Italic', 'Arial', 'Garamond', 'Bodoni MT', 'Eras Light ITC', 'Bradley Hand ITC', 'ZWAdobeF', 'Comic Sans MS', 'Bodoni MT', 'Leelawadee UI', 'HGSoeiKakugothicUB', 'Courier New', 'Tahoma', 'MS Reference Specialty', 'Bodoni MT', 'Lucida Bright', 'Georgia', 'Lucida Fax', 'Arial', 'Webdings', 'Meiryo', 'Cambria', 'Palatino Linotype', 'Sitka Small', 'Tw Cen MT', 'Times New Roman', 'Bodoni MT', 'Harrington', 'Microsoft New Tai Lue', 'Copperplate Gothic Light', 'Javanese Text', 'Niagara Solid', 'Adobe Devanagari', 'Marlett', 'Century Schoolbook', 'Bernard MT Condensed', 'Berlin Sans FB', 'Rockwell Extra Bold', 'Yu Gothic', 'HGMinchoE', 'Imprint MT Shadow', 'Gill Sans Ultra Bold Condensed', 'Microsoft YaHei', 'Consolas', 'Informal Roman', 'HGSoeiPresenceEB', 'Nirmala UI', 'Segoe UI', 'Constantia', 'Georgia', 'Onyx', 'Bell MT', 'Malgun Gothic', 'Sitka Small', 'Lucida Bright', 'Gill Sans MT Ext Condensed Bold', 'Tw Cen MT', 'Nirmala UI', 'Arial', 'Eras Bold ITC', 'Gill Sans MT', 'Colonna MT', 'Baskerville Old Face', 'Calibri', 'Tw Cen MT', 'Lucida Sans Unicode', 'Times New Roman', 'Trebuchet MS', 'Bodoni MT', 'Candara', 'Verdana', 'Microsoft JhengHei', 'Microsoft PhagsPa', 'Sitka Small', 'Microsoft JhengHei', 'Lucida Bright', 'Courier New', 'Kunstler Script', 'Microsoft Uighur', 'Lucida Handwriting', 'MingLiU-ExtB', 'Mongolian Baiti', 'Bell MT', 'Bodoni MT', 'Gadugi', 'Segoe UI', 'HGSeikaishotaiPRO', 'Gill Sans MT', 'Adobe Devanagari', 'Gigi', 'Cooper Black', 'Segoe UI', 'MS Gothic', 'Bookman Old Style', 'Rockwell', 'Segoe UI', 'Goudy Old Style', 'Vivaldi', 'Tw Cen MT', 'Monotype Corsiva', 'MS Reference Sans Serif', 'Microsoft New Tai Lue', 'Tahoma', 'Franklin Gothic Heavy', 'Myanmar Text', 'Lucida Sans', 'French Script MT', 'Copperplate Gothic Bold', 'Gadugi', 'Century Gothic', 'SimSun', 'Snap ITC', 'Arial', 'Times New Roman', 'Maiandra GD', 'Century Schoolbook', 'Lucida Fax', 'Gill Sans MT', 'Perpetua', 'Lucida Sans', 'Leelawadee', 'Leelawadee UI', 'Bell MT', 'Eras Medium ITC', 'Cambria', 'UD Digi Kyokasho N-R', 'Rockwell', 'Yu Mincho', 'Constantia', 'Segoe UI', 'Corbel', 'Old English Text MT', 'Calibri', 'Yu Gothic', 'Book Antiqua', 'Bodoni MT', 'Gill Sans Ultra Bold', 'Tw Cen MT Condensed Extra Bold', 'Bookman Old Style', 'Segoe Print', 'Lucida Sans Typewriter', 'Yu Gothic', 'Lucida Sans Typewriter', 'Tempus Sans ITC', 'Segoe UI', 'Rockwell Condensed', 'Calibri', 'Ebrima', 'Microsoft YaHei', 'Consolas', 'SimSun-ExtB', 'Papyrus', 'Constantia', 'Comic Sans MS', 'Lucida Fax', 'Niagara Engraved', 'Modern No. 20', 'HGGyoshotai', 'HGMaruGothicMPRO', 'Microsoft Sans Serif', 'Britannic Bold', 'Adobe Devanagari', 'Arial Rounded MT Bold', 'Ebrima', 'Agency FB', 'Candara', 'Bookshelf Symbol 7', 'Felix Titling', 'HGGothicM', 'Curlz MT', 'Magneto', 'Rockwell Condensed', 'Consolas', 'Georgia', 'Meiryo', 'Trebuchet MS', 'Century Gothic', 'Lucida Console', 'Calisto MT', 'Lucida Sans Typewriter', 'Stencil', 'Book Antiqua', 'HGSoeiKakupoptai', 'Footlight MT Light', 'Century Gothic', 'Arial', 'Perpetua', 'Segoe UI Emoji', 'Freestyle Script', 'Bahnschrift', 'Rockwell', 'Wingdings 3', 'Jokerman', 'Microsoft YaHei', 'Wide Latin', 'Courier New', 'Mistral', 'Parchment', 'Franklin Gothic Demi', 'Elephant', 'Centaur', 'Arial', 'Calibri', 'Arial', 'Bodoni MT', 'Franklin Gothic Demi Cond', 'Segoe UI Symbol', 'Consolas', 'Bodoni MT', 'Impact', 'Malgun Gothic', 'Corbel', 'Calisto MT', 'Calisto MT', 'Book Antiqua', 'Bookman Old Style', 'Microsoft PhagsPa', 'Tw Cen MT Condensed', 'Goudy Old Style', 'Adobe Devanagari', 'Segoe UI', 'Dubai', 'Microsoft Tai Le', 'Verdana', 'Palatino Linotype', 'Lucida Sans', 'Showcard Gothic', 'MS Mincho', 'Franklin Gothic Book', 'Nirmala UI', 'Wingdings', 'Agency FB', 'Candara', 'Sylfaen', 'Trebuchet MS', 'Tw Cen MT Condensed', 'Brush Script MT', 'Franklin Gothic Medium', 'Juice ITC', 'Dubai', 'Yu Mincho', 'Calibri', 'Symbol', 'Californian FB', 'Edwardian Script ITC', 'Candara', 'Segoe MDL2 Assets', 'High Tower Text', 'Book Antiqua', 'Garamond', 'Segoe UI', 'Goudy Stout', 'HGMinchoB', 'OCRB', 'Franklin Gothic Medium Cond', 'Perpetua Titling MT', 'Cambria', 'Comic Sans MS', 'Bauhaus 93', 'Century Schoolbook', 'Microsoft Uighur', 'High Tower Text', 'Calisto MT', 'Georgia', 'Segoe Script', 'Segoe UI', 'Segoe UI Historic', 'Microsoft JhengHei', 'Lucida Fax', 'Franklin Gothic Medium', 'Viner Hand ITC', 'Perpetua', 'Berlin Sans FB Demi', 'Eras Demi ITC', 'Matura MT Script Capitals', 'Segoe Print', 'Californian FB', 'Vladimir Script', 'Rockwell', 'Courier New', 'Algerian', 'Lucida Sans Typewriter', 'Gill Sans MT', 'Franklin Gothic Book', 'Cambria', 'Arial', 'Century', 'UD Digi Kyokasho N-B', 'Segoe UI', 'Microsoft Himalaya', 'Gill Sans MT Condensed', 'Script MT Bold', 'Kristen ITC', 'Gabriola', 'Lucida Bright', 'Microsoft Yi Baiti', 'HGKyokashotai', 'Dubai', 'Pristina', 'Franklin Gothic Heavy', 'Castellar', 'Goudy Old Style', 'Verdana', 'HoloLens MDL2 Assets', 'Wingdings 2', 'Engravers MT', 'Times New Roman', 'Chiller', 'Segoe UI', 'Palace Script MT', 'Microsoft Tai Le', 'Bodoni MT', 'Segoe Script', 'Gloucester MT Extra Condensed', 'Yu Gothic', 'Constantia', 'Californian FB', 'Forte', 'Palatino Linotype', 'Century Schoolbook', 'Bookman Old Style', 'Ravie', 'Leelawadee', 'MV Boli', 'Malgun Gothic', 'Sitka Small', 'Trebuchet MS', 'Corbel', 'Garamond', 'Segoe UI', 'Arial', 'Verdana', 'Lucida Calligraphy', 'Berlin Sans FB', 'Perpetua Titling MT']\n"
     ]
    }
   ],
   "source": [
    "import matplotlib.font_manager\n",
    "print([f.name for f in matplotlib.font_manager.fontManager.ttflist])"
   ]
  },
  {
   "cell_type": "markdown",
   "metadata": {},
   "source": [
    "## 3. matplotlibで日本語フォントの指定\n",
    "\n",
    "演習ファイルにも載せましたが、以下のようにして使用するフォントを指定できます。"
   ]
  },
  {
   "cell_type": "code",
   "execution_count": 13,
   "metadata": {},
   "outputs": [],
   "source": [
    "plt.rcParams[\"font.family\"] = \"Yu Mincho\""
   ]
  },
  {
   "cell_type": "markdown",
   "metadata": {},
   "source": [
    "また、macOSの場合はmatplotlibのフォントのキャッシュ削除が必要なようです。   \n",
    "「アプリケーション＞ターミナル」を開いて\n",
    "```\n",
    "rm -rf ~/.matplotlib/fontList*.cache\n",
    "```\n",
    "を実行します。   "
   ]
  },
  {
   "cell_type": "markdown",
   "metadata": {},
   "source": [
    "## 4. 日本語フォントのチェック\n",
    "\n",
    "以下のセルを実行して、日本語文字が書き出せるか確認してください。"
   ]
  },
  {
   "cell_type": "code",
   "execution_count": 21,
   "metadata": {},
   "outputs": [
    {
     "data": {
      "text/plain": [
       "Text(0.1, 0.5, 'これが表示されたら成功！')"
      ]
     },
     "execution_count": 21,
     "metadata": {},
     "output_type": "execute_result"
    },
    {
     "data": {
      "image/png": "[encoded data removed]",
      "text/plain": [
       "<Figure size 432x72 with 1 Axes>"
      ]
     },
     "metadata": {
      "needs_background": "light"
     },
     "output_type": "display_data"
    }
   ],
   "source": [
    "import matplotlib.pyplot as plt\n",
    "fig = plt.figure(figsize =(6, 1))\n",
    "ax = fig.add_subplot(111)\n",
    "ax.text(0.1, 0.5, \"これが表示されたら成功！\", size = 20, color = \"red\")"
   ]
  }
 ],
 "metadata": {
  "kernelspec": {
   "display_name": "Python 3",
   "language": "python",
   "name": "python3"
  },
  "language_info": {
   "codemirror_mode": {
    "name": "ipython",
    "version": 3
   },
   "file_extension": ".py",
   "mimetype": "text/x-python",
   "name": "python",
   "nbconvert_exporter": "python",
   "pygments_lexer": "ipython3",
   "version": "3.7.7"
  }
 },
 "nbformat": 4,
 "nbformat_minor": 2
}
