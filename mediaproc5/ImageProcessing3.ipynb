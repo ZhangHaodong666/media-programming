{
 "cells": [
  {
   "cell_type": "markdown",
   "metadata": {},
   "source": [
    "# Colaboratoryで実行する場合\n",
    "以下を実行して、外部ファイルをダウンロードしてください。   \n",
    "**このセルはColaboratoryを起動するたびに必要となります**   "
   ]
  },
  {
   "cell_type": "code",
   "execution_count": null,
   "metadata": {},
   "outputs": [],
   "source": [
    "##################################\n",
    "### Colaboratoryのみ以下を実行 ###\n",
    "##################################\n",
    "import sys\n",
    "if 'google.colab' in sys.modules:\n",
    "    !wget -P ./img http://www.hal.t.u-tokyo.ac.jp/~yamakata/lecture/mediaproc/mediaproc5/handWriteAIUEO.png\n"
   ]
  },
  {
   "cell_type": "markdown",
   "metadata": {},
   "source": [
    "# 画像処理3: 画像の二値化～グレースケール画像から二値画像への変換～\n",
    "\n",
    "みなさんも、文書をスキャンして保存したことがあると思います。   \n",
    "スキャナは、紙面にライン状の光を移動させながら当てて、跳ね返ってきた光（白い部分はたくさん跳ね返り、黒い部分はあまり跳ね返らない）の光量を撮像素子で測定する装置です。   \n",
    "いわば、紙面をカメラで撮影するようなものですね。   \n",
    "ですから、撮影された時点では、その画像は複数の階調を持つグレースケール画像です。   \n",
    "しかし、その紙面が文字のみで構成された文書の場合は、文字部分が黒、背景部分が白、の白か黒かしかないので、\n",
    "その中間色（灰色）は本来は不要で、目ざわりなノイズとなってしまいます。   \n",
    "そこで、スキャナでは、そのようなグレースケール画像に対し、画像処理で二値画像に変換します。\n",
    "\n",
    "商品として売られている商品では、いくつかの二値化アルゴリズムが組み合わされていますが、\n",
    "ここでは基本的なアルゴリズムである閾値処理で二値化する手法について学びましょう。\n"
   ]
  },
  {
   "cell_type": "markdown",
   "metadata": {},
   "source": [
    "## 閾値処理による二値化\n",
    "\n",
    "閾値処理とは、グレースケール画像の各画素に対して、その濃淡値があらかじめ定めた定数（これを閾値とよぶ）以上のときその画素を白、閾値以下のときその画素を黒とするものです。   \n",
    "\n",
    "### 例題：画像の読み込み\n",
    "\n",
    "裏紙に手書きで文字を書いた用紙をスキャンした場合を考えましょう。   \n",
    "背景部分は真っ白ではなく、うっすらと裏の文字が透けて見えています。"
   ]
  },
  {
   "cell_type": "code",
   "execution_count": null,
   "metadata": {},
   "outputs": [],
   "source": [
    "%matplotlib inline\n",
    "import matplotlib.pyplot as plt\n",
    "import cv2\n",
    "\n",
    "# 手書き文字のスキャン画像（グレースケール）\n",
    "img_gray = cv2.imread('img/handWriteAIUEO.png', cv2.IMREAD_ANYDEPTH) \n",
    "plt.imshow(img_gray, 'gray')\n"
   ]
  },
  {
   "cell_type": "markdown",
   "metadata": {},
   "source": [
    "### 閾値処理\n",
    "\n",
    "画像の閾値処理には`opencv`の`cv2.threshold`という関数を利用します。   \n",
    "8-bit画像の濃淡値の範囲（0-255)の中央値は127ですから、とりあえず127を閾値として、白と黒に分けて見ましょう。   \n",
    "どうなるでしょうか？"
   ]
  },
  {
   "cell_type": "code",
   "execution_count": null,
   "metadata": {},
   "outputs": [],
   "source": [
    "th = 127 # 輝度値の中心は127です。もしこの値で白と黒に分けてしまうとどうなるでしょうか？\n",
    "ret,th_img = cv2.threshold(img_gray, th, 255, cv2.THRESH_BINARY)\n",
    "plt.imshow(th_img,'gray')\n",
    "plt.show()\n",
    "cv2.imwrite('img/th_img.png', th_img)"
   ]
  },
  {
   "cell_type": "markdown",
   "metadata": {},
   "source": [
    "裏書の文字が透けて見えてしまっているようです。   \n",
    "閾値は、スキャン対象の紙面の状態によって調節する必要がありそうです。   \n",
    "適切な閾値を決めるために、この画像のヒストグラムを計算しましょう。"
   ]
  },
  {
   "cell_type": "markdown",
   "metadata": {},
   "source": [
    "### 画像のヒストグラム\n",
    "\n",
    "Python入門の授業では、文字n-gramのヒストグラムという概念が出てきましたね。   \n",
    "あの課題では、ある特定の文字n-gramが文書全体に何回出てくるかを数えたものでした。   \n",
    "あのようなヒストグラムという概念はいろいろな分野で現れて、画像でもヒストグラムがあります。   \n",
    "画像のヒストグラムとは、x軸が濃淡値で、y軸はその濃淡値を持つ画素が画像中にいくつあるかをグラフ化したものです。  　\n",
    "ここで、x軸におけるメモリの細かさは必ずしも濃淡差1ではなく、ある程度幅を設ける（たとえば256階調のグレースケールを16段階に分けるとすると、濃淡値が0～15までの画素の数、濃淡値が16～31までの画素の数、と数えていくこと）のが普通です。  \n",
    "このとき、この幅の一つ一つをビン(bin)と呼びます（先ほどの例では16個のビンに分けることになります）。   \n",
    "opencvで画像のヒストグラムを計算して描画する関数は、   \n",
    "```cv2.calcHist(images, channels, mask, histSize, ranges[, hist[, accumulate]])```   \n",
    "です。この時、histSizeがビンの数を意味します。\n"
   ]
  },
  {
   "cell_type": "code",
   "execution_count": null,
   "metadata": {},
   "outputs": [],
   "source": [
    "plt.hist(img_gray.ravel(),256,[0,256])\n",
    "#plt.hist(img_gray.ravel(),64,[0,256]) # ビンの数を64個（つまり輝度の幅を4にする）とどうなるでしょうか？\n",
    "plt.show()\n"
   ]
  },
  {
   "cell_type": "markdown",
   "metadata": {},
   "source": [
    "このヒストグラムを見ると、山が二つあるのが分かります。   \n",
    "このうち、0に近いほうが文字の画素、1に近いほうが背景の画素であると予想されます。   \n",
    "それを白と黒に分けたいなら、閾値を80くらいに設定すればいいということがわかります。\n"
   ]
  },
  {
   "cell_type": "code",
   "execution_count": null,
   "metadata": {},
   "outputs": [],
   "source": [
    "th = 80 # 閾値\n",
    "ret,th_img2 = cv2.threshold(img_gray,th,255,cv2.THRESH_BINARY)\n",
    "plt.imshow(th_img2,'gray')\n",
    "plt.show()"
   ]
  },
  {
   "cell_type": "markdown",
   "metadata": {},
   "source": [
    "### 大津の二値化\n",
    "\n",
    "ヒストグラムを見れば、適切な閾値を決めることはできそうですが、毎回人が見て閾値を決めるのは面倒ですよね。   \n",
    "そこで、適切な閾値を決める方法がいろいろと考えられました。   \n",
    "この中で、大津の二値化は、文書をスキャンした画像はヒストグラムは上に示したように二つの山になるという前提のもと、\n",
    "閾値で二つのクラスに分けたとき、各クラス内の画素間ではそれらの濃淡値の分散が小さくなり、違うクラスどうしの画素間ではそれらの濃淡値の分散が大きくなるような閾値を見つける手法です。\n",
    "\n",
    "ちなみにこの手法を提案された大津展之先生は東大の卒業生ですね。   \n",
    "[Nobuyuki Otsu, \"A threshold selection method from gray-level histograms\", IEEE Transactions on Systems, Man, and Cybernetics, 1979](https://engineering.purdue.edu/kak/computervision/ECE661.08/OTSU_paper.pdf)"
   ]
  },
  {
   "cell_type": "code",
   "execution_count": null,
   "metadata": {},
   "outputs": [],
   "source": [
    "ret2,th_img3 = cv2.threshold(img_gray,0,255,cv2.THRESH_OTSU)\n",
    "\n",
    "print('計算された閾値:', ret2)\n",
    "plt.imshow(th_img3,'gray')\n",
    "plt.show()\n",
    "cv2.imwrite('img/otsu.png', th_img3)"
   ]
  }
 ],
 "metadata": {
  "kernelspec": {
   "display_name": "Python 3",
   "language": "python",
   "name": "python3"
  },
  "language_info": {
   "codemirror_mode": {
    "name": "ipython",
    "version": 3
   },
   "file_extension": ".py",
   "mimetype": "text/x-python",
   "name": "python",
   "nbconvert_exporter": "python",
   "pygments_lexer": "ipython3",
   "version": "3.7.7"
  }
 },
 "nbformat": 4,
 "nbformat_minor": 2
}
