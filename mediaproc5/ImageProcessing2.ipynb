{
 "cells": [
  {
   "cell_type": "markdown",
   "metadata": {},
   "source": [
    "# Colaboratoryで実行する場合\n",
    "以下を実行して、外部ファイルをダウンロードしてください。   \n",
    "**このセルはColaboratoryを起動するたびに必要となります**   "
   ]
  },
  {
   "cell_type": "code",
   "execution_count": null,
   "metadata": {},
   "outputs": [],
   "source": [
    "##################################\n",
    "### Colaboratoryのみ以下を実行 ###\n",
    "##################################\n",
    "import sys\n",
    "if 'google.colab' in sys.modules:\n",
    "    !wget -P ./img http://www.hal.t.u-tokyo.ac.jp/~yamakata/lecture/mediaproc/mediaproc5/mediaproc5-2.zip\n",
    "    !unzip img/mediaproc5-2.zip -d img/"
   ]
  },
  {
   "cell_type": "markdown",
   "metadata": {},
   "source": [
    "# 画像処理2: 画像の生成・保存"
   ]
  },
  {
   "cell_type": "markdown",
   "metadata": {},
   "source": [
    "## 1.  画像の生成と保存\n",
    "### 1.1 カラー画像の生成\n",
    "\n",
    "画像処理1(ImageProcessing1.ipynb)の1.3で読み込んだ画像を作ってみましょう。   \n"
   ]
  },
  {
   "cell_type": "code",
   "execution_count": 1,
   "metadata": {},
   "outputs": [
    {
     "data": {
      "text/plain": [
       "<matplotlib.image.AxesImage at 0x218b8298048>"
      ]
     },
     "execution_count": 1,
     "metadata": {},
     "output_type": "execute_result"
    },
    {
     "data": {
      "image/png": "[encoded data removed]",
      "text/plain": [
       "<Figure size 432x288 with 1 Axes>"
      ]
     },
     "metadata": {
      "needs_background": "light"
     },
     "output_type": "display_data"
    }
   ],
   "source": [
    "%matplotlib inline\n",
    "import matplotlib.pyplot as plt\n",
    "import cv2\n",
    "import numpy as np\n",
    "\n",
    "# 横16画素、縦16画素で、3チャネル、1画素あたり8-bitで0埋めの配列を生成\n",
    "img_gen = np.zeros((16, 16, 3), np.uint8)\n",
    "\n",
    "# 各列ごとに違う色を指定していきましょう\n",
    "img_gen[0,:] = [0, 0, 0] # 黒\n",
    "img_gen[1,:] = [255, 0, 0] # 赤\n",
    "img_gen[2,:] = [0, 255, 0] # 緑\n",
    "img_gen[3,:] = [0, 0, 255] # 青\n",
    "img_gen[4,:] = [0, 255, 255] # シアン\n",
    "img_gen[5,:] = [255, 0, 255] # マゼンタ\n",
    "img_gen[6,:] = [255, 255, 0] # イエロー\n",
    "img_gen[7,:] = [255, 255, 255] # 白\n",
    "img_gen[8,:] = [125, 0, 0]\n",
    "img_gen[9,:] = [0, 125, 0]\n",
    "img_gen[10,:] = [0, 0, 125]\n",
    "img_gen[11,:] = [0, 125, 125]\n",
    "img_gen[12,:] = [125, 0, 125]\n",
    "img_gen[13,:] = [125, 125, 0]\n",
    "img_gen[14,:] = [125, 125, 125]\n",
    "img_gen[7,:] = [255, 255, 255]\n",
    "\n",
    "plt.imshow(img_gen)\n"
   ]
  },
  {
   "cell_type": "markdown",
   "metadata": {},
   "source": [
    "### 1.2 画像の保存\n",
    "\n",
    "opencvの画像形式で生成した画像はcv2.imwrite()という関数で保存することができます。   \n",
    "この時、cv2.imread()と同様、opencvではRGBではなくBGRの形式として画像を扱いますので、\n",
    "RGBのまま保存するとRとBの色のチャネルが入れ替わり、おかしな色になってしまいます。   \n",
    "画像を保存する際は、先に`cv2.cvtColor([rgb画像], cv2.COLOR_RGB2BGR)`でRGBをBGRに変換してから保存しましょう。"
   ]
  },
  {
   "cell_type": "code",
   "execution_count": null,
   "metadata": {},
   "outputs": [],
   "source": [
    "img_bgr= cv2.cvtColor(img_gen, cv2.COLOR_RGB2BGR)\n",
    "cv2.imwrite('img/color2.png', img_bgr)\n"
   ]
  },
  {
   "cell_type": "markdown",
   "metadata": {},
   "source": [
    "## 2. 画像の保存形式\n",
    "\n",
    "### 2.1 画像のデータサイズ\n",
    "\n",
    "画像は多くの場合圧縮されます。   \n",
    "上の画像は高々16ピクセル×16ピクセルの画像でした。   \n",
    "1画素あたりのデータサイズは8-bit×3チャネル=24-bitですから、これをそのまま保存すると、画像サイズは\n",
    "16×16×24-bit=6144-bit=768-byteです（8-bit=1-byteです）。   \n",
    "ですが、こんな小さなサイズの画像、見たことありませんよね？最近のノートPCで開いたら米粒のような画像です。   \n",
    "最近はどんなに小さくても640×480=307,200画素でしょう。   \n",
    "307,200画素×8-bit×3チャネル=921,6-KBです。   \n",
    "さらに、最近の超高画質カメラでは、8700×5800=5000万画素の画像を撮影できます。   \n",
    "これを24-bitフルカラーで記録すると、なんと5000万×24bit=151MBです!   \n",
    "CD-ROM1枚に記録できるデータサイズは通常700MBですから、1枚に4枚しか記録できません。   \n",
    "また、読み込み・書き込みにもそれだけ長い時間がかかってしまいます。\n",
    "\n",
    "ですので、画像を記録する際はほぼ圧縮するのですが、その際、   \n",
    "\n",
    "- 元の画像を復元することができるけれどもデータサイズはあまり小さくならない可逆圧縮と、  \n",
    "- 元の画像を完全に復元することはできないけれどもデータサイズはいくらでも小さくできる非可逆圧縮\n",
    "\n",
    "の2種類があり、場面によって使い分ける必要があります。   \n",
    "圧縮の仕方を間違うと、重要なデータを失う可能性もあるので、少し注意して勉強していきましょう。\n",
    "\n",
    "\n"
   ]
  },
  {
   "cell_type": "markdown",
   "metadata": {},
   "source": [
    "### 2.2 様々な画像フォーマット\n",
    "\n",
    "画像には様々な保存形式があります。  \n",
    "openCVがサポートするのは以下の形式です(くわしくは[こちら](http://opencv.jp/opencv-2.1/cpp/reading_and_writing_images_and_video.html)を参照）。\n",
    "\n",
    "- Windows bitmaps 拡張子はbmp, dib （常にサポートされます）\n",
    "- JPEG files 拡張子はjpeg,jpg,jpe\n",
    "- JPEG 2000 files 拡張子はjp2\n",
    "- Portable Network Graphics　拡張子はpng\n",
    "- Portable image format 拡張子はpbm, pgm, ppm\n",
    "- Sun rasters 拡張子はsr, ras\n",
    "- TIFF files 拡張子はtiff,tif\n",
    "\n",
    "画像ファイルの中には、その冒頭に、画像がどのようなフォーマットで書かれているかを記したヘッダが記載されています。   \n",
    "`cv2.imread`は、画像ファイルのヘッダを見てその画像のフォーマットを判断し、画像を読み込みます。  \n",
    "\n",
    "一方、`cv2.imwrite`では、ファイル名の拡張子をみて記録形式を決定します。   \n",
    "上の1.2の例では、ファイルの拡張子が`png`となっていますから、PNG形式で保存されています。\n",
    "\n",
    "opencvでサポートされている画像形式の中で皆さんがよく使うのはJPEGとPNGだと思うので、この2種類について詳しく解説していきます。\n"
   ]
  },
  {
   "cell_type": "markdown",
   "metadata": {},
   "source": [
    "## 3 よく使われる画像フォーマット\n",
    "### 3.1 PNG (Portable Network Graphics) フォーマット\n",
    "\n",
    "PNGは可逆圧縮です。つまり、元の画像を完全に復元することができます。   \n",
    "その代わり、データサイズはあまり小さくならない？。。。とは限りません。   \n",
    "\n",
    "PNGでは、同じ値が並んでいたらそれをまとめて記録することにより圧縮しています。   \n",
    "たとえばPC等で作成したイラストの場合、輪郭線を書いて塗りつぶす、という処理を行うことが多いですが、\n",
    "この場合は、その塗りつぶされた中身はRGB共に完全に同じ値が並んでいますよね。   \n",
    "このような場合はPNGは小さく圧縮することが可能です。 \n",
    "\n",
    "実際に以下の2枚を使って試してみましょう。\n",
    "\n",
    "- カメラで撮影した写真（`UTokyoYasudaMini.jpg`)\n",
    "- PCで書いたイラスト（`UTokyoYasudaIllust.png`)\n",
    "\n",
    "PNGでは、圧縮レベルを上げると、圧縮時間が長くなり、画像サイズは小さくなりますが、画像の見た目は全く変わりません。   \n",
    "イラストは同じ色の画素が多く含まれるので、圧縮レベルを上げると画像サイズが17分の1以下と劇的に小さくなるのが分かるでしょう。   \n",
    "一方写真は圧縮レベルを上げても画像サイズは半分程度にしかなりませんし、圧縮時間も数秒かかります。"
   ]
  },
  {
   "cell_type": "code",
   "execution_count": null,
   "metadata": {},
   "outputs": [],
   "source": [
    "%matplotlib inline\n",
    "import matplotlib.pyplot as plt\n",
    "import cv2\n",
    "import os\n",
    "import time\n",
    "\n",
    "illust = 'img/UTokyoYasudaIllust.png'\n",
    "photo = 'img/UTokyoYasudaMini.jpg'\n",
    "\n",
    "# 入力画像を写真とイラストで変えると、圧縮レベルの違いによる時間と画像サイズはどうなりますか？\n",
    "input = illust\n",
    "#input = photo\n",
    "\n",
    "img_input = cv2.imread(input)\n",
    "img_input = cv2.cvtColor(img_input, cv2.COLOR_BGR2RGB) \n",
    "\n",
    "# pngでは圧縮にかける時間を変えることができます。時間をかけるほど小さく圧縮されます\n",
    "# 圧縮レベルを下げると、画像サイズがどのように変わり、また表示される画像がどう変わるか見てみましょう\n",
    "\n",
    "# 低圧縮\n",
    "img_low_compression = 'img/low_compression.png'\n",
    "Compression = 0 # 0～9\n",
    "start = time.time()\n",
    "cv2.imwrite(img_low_compression, \n",
    "            cv2.cvtColor(img_input, cv2.COLOR_RGB2BGR), \n",
    "            [int(cv2.IMWRITE_PNG_COMPRESSION), Compression])\n",
    "process_time_low_compression = time.time() - start\n",
    "\n",
    "# 高圧縮\n",
    "img_high_compression = 'img/high_compression.png'\n",
    "Compression = 9 # 0～9\n",
    "start = time.time()\n",
    "cv2.imwrite(img_high_compression, \n",
    "            cv2.cvtColor(img_input, cv2.COLOR_RGB2BGR),\n",
    "            [int(cv2.IMWRITE_PNG_COMPRESSION), Compression])\n",
    "process_time_high_compression = time.time() - start\n",
    "\n",
    "print('低圧縮PNG画像のサイズ: ', os.path.getsize(img_low_compression), '\\t圧縮にかかった時間：', process_time_low_compression)\n",
    "print('高圧縮PNG画像のサイズ: ', os.path.getsize(img_high_compression), '\\t圧縮にかかった時間：', process_time_high_compression)\n",
    "\n",
    "plt.figure(figsize=(10,10))\n",
    "\n",
    "plt.subplot(1,2,1)\n",
    "img_out = cv2.imread(img_low_compression)\n",
    "img_out = cv2.cvtColor(img_out, cv2.COLOR_BGR2RGB) \n",
    "plt.imshow(img_out)\n",
    "plt.title('Low compression png')\n",
    "\n",
    "plt.subplot(1,2,2)\n",
    "img_out = cv2.imread(img_high_compression)\n",
    "img_out = cv2.cvtColor(img_out, cv2.COLOR_BGR2RGB) \n",
    "plt.imshow(img_out)\n",
    "plt.title('High compression png')\n"
   ]
  },
  {
   "cell_type": "markdown",
   "metadata": {},
   "source": [
    "### 3.2 JPEG (Joint Photographic Experts Group) フォーマット\n",
    "\n",
    "JPEGは非可逆圧縮です。見た目に影響の少ない情報を省く代わりに画像のサイズを小さくします。   \n",
    "元の画像を復元することはできません。\n",
    "\n",
    "Qualityが100だと非圧縮です。   \n",
    "Qualityが10だと高圧縮となります。   \n",
    "高圧縮の場合、非圧縮に比べて画像サイズは17分の1以下になっていますが、画像をよく見ると、なだらかに色が変化している空の部分にcompression artifactと呼ばれるひずみが現れていることが分かります（画面で分かりにくければ、保存している画像のほうで確認してください）。\n",
    "\n",
    "JPEG圧縮はPNGの圧縮に比べて非常に高速です。\n"
   ]
  },
  {
   "cell_type": "code",
   "execution_count": null,
   "metadata": {
    "scrolled": true
   },
   "outputs": [],
   "source": [
    "%matplotlib inline\n",
    "import matplotlib.pyplot as plt\n",
    "import cv2\n",
    "import os\n",
    "import time\n",
    "\n",
    "illust = 'img/UTokyoYasudaIllust.png'\n",
    "photo = 'img/UTokyoYasudaMini.jpg'\n",
    "\n",
    "# 入力画像を写真とイラストで変えると、圧縮レベルの違いによる時間と画像サイズはどうなりますか？\n",
    "#input = illust\n",
    "input = photo\n",
    "\n",
    "img_input = cv2.imread(input)\n",
    "img_input = cv2.cvtColor(img_input, cv2.COLOR_BGR2RGB) \n",
    "\n",
    "# jpegでは圧縮率を変えることができます。\n",
    "# 圧縮率を下げると、画像サイズがどのように変わり、また表示される画像がどう変わるか見てみましょう\n",
    "\n",
    "# 低圧縮\n",
    "img_low_compression = 'img/low_compression.jpg'\n",
    "Quality= 100 # 0～100\n",
    "start = time.time()\n",
    "cv2.imwrite(img_low_compression, \n",
    "            cv2.cvtColor(img_input, cv2.COLOR_RGB2BGR), \n",
    "            [int(cv2.IMWRITE_JPEG_QUALITY), Quality])\n",
    "process_time_low_compression = time.time() - start\n",
    "\n",
    "# 高低圧縮\n",
    "img_high_compression = 'img/high_compression.jpg'\n",
    "Quality= 10 # 0～100\n",
    "start = time.time()\n",
    "cv2.imwrite(img_high_compression, \n",
    "            cv2.cvtColor(img_input, cv2.COLOR_RGB2BGR),\n",
    "            [int(cv2.IMWRITE_JPEG_QUALITY), Quality])\n",
    "process_time_high_compression = time.time() - start\n",
    "\n",
    "print('低圧縮JPEG画像のサイズ: ', os.path.getsize(img_low_compression), '\\t圧縮にかかった時間：', process_time_low_compression)\n",
    "print('高圧縮JPEG画像のサイズ: ', os.path.getsize(img_high_compression), '\\t圧縮にかかった時間：', process_time_high_compression)\n",
    "\n",
    "plt.figure(figsize=(10,10))\n",
    "\n",
    "plt.subplot(1,2,1)\n",
    "img_out = cv2.imread(img_low_compression)\n",
    "img_out = cv2.cvtColor(img_out, cv2.COLOR_BGR2RGB) \n",
    "plt.imshow(img_out)\n",
    "plt.title('Low compression jpg')\n",
    "\n",
    "plt.subplot(1,2,2)\n",
    "img_out = cv2.imread(img_high_compression)\n",
    "img_out = cv2.cvtColor(img_out, cv2.COLOR_BGR2RGB) \n",
    "plt.imshow(img_out)\n",
    "plt.title('High compression jpg')\n",
    "\n"
   ]
  }
 ],
 "metadata": {
  "kernelspec": {
   "display_name": "Python 3",
   "language": "python",
   "name": "python3"
  },
  "language_info": {
   "codemirror_mode": {
    "name": "ipython",
    "version": 3
   },
   "file_extension": ".py",
   "mimetype": "text/x-python",
   "name": "python",
   "nbconvert_exporter": "python",
   "pygments_lexer": "ipython3",
   "version": "3.7.7"
  }
 },
 "nbformat": 4,
 "nbformat_minor": 2
}
