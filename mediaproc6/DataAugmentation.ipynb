{
 "cells": [
  {
   "cell_type": "markdown",
   "metadata": {
    "colab_type": "text",
    "id": "2FzXoACCZluZ"
   },
   "source": [
    "# Colaboratoryで実行する場合\n",
    "以下を実行して、外部ファイルをダウンロードしてください。   \n",
    "**このセルはColaboratoryを起動するたびに必要となります**   "
   ]
  },
  {
   "cell_type": "code",
   "execution_count": null,
   "metadata": {
    "colab": {
     "base_uri": "https://localhost:8080/",
     "height": 202
    },
    "colab_type": "code",
    "id": "Yo89lpJeZoYf",
    "outputId": "31b00dd0-9e88-4fd2-95f3-31b251362e09"
   },
   "outputs": [],
   "source": [
    "##################################\n",
    "### Colaboratoryのみ以下を実行 ###\n",
    "##################################\n",
    "import sys\n",
    "if 'google.colab' in sys.modules:\n",
    "    !wget -P ./img http://www.hal.t.u-tokyo.ac.jp/~yamakata/lecture/mediaproc/mediaproc6/yasuda.png\n",
    "    !pip install tensorflow\n",
    "    !pip install keras"
   ]
  },
  {
   "cell_type": "markdown",
   "metadata": {
    "colab_type": "text",
    "id": "rKRSKby4CVAp"
   },
   "source": [
    "# 補助演習：Data Augmentation\n",
    "\n",
    "限られた訓練データを仮想的に増やすため、データを様々に加工して新しいデータを生成する処理です。   \n",
    "\n",
    "ここでは画像のAugmentationのための関数 [ImageDataGenerator](https://keras.io/ja/preprocessing/image/#imagedatagenerator_1) を使用します。   \n",
    "パラメータを変えて、どのような画像が生成されるか見てみましょう。\n",
    "\n"
   ]
  },
  {
   "cell_type": "code",
   "execution_count": null,
   "metadata": {
    "colab": {
     "base_uri": "https://localhost:8080/",
     "height": 1000
    },
    "colab_type": "code",
    "id": "zOZsIzN88kIG",
    "outputId": "27870db8-80d2-4ed7-e465-f9e76e870ace"
   },
   "outputs": [],
   "source": [
    "%matplotlib inline\n",
    "import matplotlib.pyplot as plt\n",
    "from keras.preprocessing import image\n",
    "import numpy as np\n",
    "\n",
    "img = np.array(image.load_img('img/yasuda.png'))\n",
    "plt.imshow(img)\n",
    "plt.axis('off')\n",
    "\n",
    "# 与えられた画像に対し、様々な処理を加えて新しい画像を生成するためジェネレータを作成\n",
    "datagen = image.ImageDataGenerator(\n",
    "        featurewise_center=False,  # 真理値．データセット全体で，入力の平均を0にします．\n",
    "        samplewise_center=False,  # 真理値．各サンプルの平均を0にします．\n",
    "        featurewise_std_normalization=False,  # 真理値．入力をデータセットの標準偏差で正規化します\n",
    "        samplewise_std_normalization=False,  # 真理値．各入力をその標準偏差で正規化します．\n",
    "        zca_whitening=False,  # 真理値．ZCA白色化を適用します．\n",
    "        zca_epsilon=1e-06,  # ZCA白色化のイプシロン．デフォルトは1e-6\n",
    "        rotation_range=20,  # 整数．画像をランダムに回転する回転範囲．\n",
    "        width_shift_range=0.2, # 浮動小数点数（横幅に対する割合）．ランダムに水平シフトする範囲．\n",
    "        height_shift_range=0.2, # 浮動小数点数（縦幅に対する割合）．ランダムに垂直シフトする範囲．\n",
    "        shear_range=0.,  # 浮動小数点数．シアー強度（反時計回りのシアー角度）．\n",
    "        zoom_range=0.,  # 浮動小数点数または[lower，upper]．ランダムにズームする範囲．浮動小数点数が与えられた場合，[lower, upper] = [1-zoom_range, 1+zoom_range]です．\n",
    "        channel_shift_range=0.,  # 浮動小数点数．ランダムにチャンネルをシフトする範囲．\n",
    "        fill_mode='nearest', # {\"constant\", \"nearest\", \"reflect\", \"wrap\"}のいずれか．デフォルトは 'nearest'です．指定されたモードに応じて，入力画像の境界周りを埋めます．\n",
    "        cval=0.,  # 浮動小数点数または整数．fill_mode = \"constant\"のときに境界周辺で利用される値．\n",
    "        horizontal_flip=True,  # 真理値．水平方向に入力をランダムに反転します．\n",
    "        vertical_flip=False,  # 真理値．垂直方向に入力をランダムに反転します．\n",
    "        rescale=None, # 画素値のリスケーリング係数．デフォルトはNone．Noneか0ならば，適用しない．それ以外であれば，(他の変換を行う前に) 与えられた値をデータに積算する．\n",
    "        # set function that will be applied on each input\n",
    "        preprocessing_function=None, # 各入力に適用される関数です．この関数は他の変更が行われる前に実行されます．この関数は3次元のNumpyテンソルを引数にとり，同じshapeのテンソルを出力するように定義する必要があります．\n",
    "        data_format=None, # {\"channels_first\", \"channels_last\"}のどちらか．\"channels_last\"の場合，入力のshapeは(samples, height, width, channels)となり，\"channels_first\"の場合は(samples, channels, height, width)となります．デフォルトはKerasの設定ファイル~/.keras/keras.jsonのimage_data_formatの値です．一度も値を変更していなければ，\"channels_last\"になります．\n",
    "        validation_split=0.0) # 浮動小数点数．検証のために予約しておく画像の割合（厳密には0から1の間）です．\n",
    "\n",
    "# ジェネレータに画像を入力\n",
    "# 本来ならミニバッチのすべての画像を一気に変換するが、今回は1枚なのでbatch_sizeは1\n",
    "gen = datagen.flow(np.array([img]) , batch_size=1)  \n",
    "\n",
    "# 30枚をランダムに生成\n",
    "plt.figure(figsize=(10, 20))\n",
    "for i in range(30):\n",
    "    batches = next(gen)\n",
    "    gen_img = batches[0].astype(np.uint8)\n",
    "\n",
    "    plt.subplot(10, 3, i + 1)\n",
    "    plt.imshow(gen_img)\n",
    "    plt.axis('off')\n",
    "plt.show()"
   ]
  }
 ],
 "metadata": {
  "colab": {
   "collapsed_sections": [],
   "name": "DataAugmentation.ipynb",
   "provenance": [],
   "toc_visible": true
  },
  "kernelspec": {
   "display_name": "Python 3",
   "language": "python",
   "name": "python3"
  },
  "language_info": {
   "codemirror_mode": {
    "name": "ipython",
    "version": 3
   },
   "file_extension": ".py",
   "mimetype": "text/x-python",
   "name": "python",
   "nbconvert_exporter": "python",
   "pygments_lexer": "ipython3",
   "version": "3.7.7"
  }
 },
 "nbformat": 4,
 "nbformat_minor": 1
}
