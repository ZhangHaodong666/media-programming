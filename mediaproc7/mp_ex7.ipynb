{
 "cells": [
  {
   "cell_type": "markdown",
   "metadata": {},
   "source": [
    "# 第7回課題：ウェブスクレイピング\n",
    "\n",
    "東京大学のUTokyo Focus（https://www.u-tokyo.ac.jp/focus/ja/index.html) をスクレイピングして、所定の情報を取得してください。"
   ]
  },
  {
   "cell_type": "markdown",
   "metadata": {},
   "source": [
    "## 課題１：ヘッダ情報の取得\n",
    "\n",
    "東京大学のUTokyo Focus（https://www.u-tokyo.ac.jp/focus/ja/index.html) のタイトル（タグ\"TITLE\"でマークアップされているテキスト）を取り出して、**変数`title`に代入してください。**"
   ]
  },
  {
   "cell_type": "code",
   "execution_count": 15,
   "metadata": {},
   "outputs": [],
   "source": [
    "### ここに課題1のコードを書いてください\n",
    "import random\n",
    "import requests\n",
    "from bs4 import BeautifulSoup\n",
    "url = 'https://www.u-tokyo.ac.jp/focus/ja/index.html'\n",
    "\n",
    "res = requests.get(url)\n",
    "res.encoding = res.apparent_encoding  # 文字コードを設定\n",
    "\n",
    "# res.textには、上のセルでダウンロードしたHTMLソースが代入されています\n",
    "soup = BeautifulSoup(res.text, \"lxml\")\n",
    "\n",
    "title = soup.title.text"
   ]
  },
  {
   "cell_type": "markdown",
   "metadata": {},
   "source": [
    "以下のセルで出力してください。東大側のWebページに変更がなければ、以下のように表示されるはずです。   \n",
    "```\n",
    "このページのタイトル： UTokyo FOCUS | 東京大学\n",
    "```\n",
    "評価の際は変数`title`に入っている値が正しいかどうかで評価します。"
   ]
  },
  {
   "cell_type": "code",
   "execution_count": 16,
   "metadata": {},
   "outputs": [
    {
     "name": "stdout",
     "output_type": "stream",
     "text": [
      "このページのタイトル： UTokyo FOCUS | 東京大学\n"
     ]
    }
   ],
   "source": [
    "# このセルは変更しないでください！\n",
    "# このページのタイトルを変数'title'に代入して、以下の行で出力してください\n",
    "print('このページのタイトル：', title)  # この行は変更しないでください。"
   ]
  },
  {
   "cell_type": "markdown",
   "metadata": {},
   "source": [
    "## 課題２：UTokyo FOCUS>IN THE NEWS 一覧の取得\n",
    "\n",
    "東京大学のUTokyo Focus（https://www.u-tokyo.ac.jp/focus/ja/index.html) のページのHTMLソースでは、IN THE NEWSの一覧は次のような書式で書かれています（これは2020年7月6日のIN THE NEWSの一部を抜粋したものです）。  "
   ]
  },
  {
   "cell_type": "markdown",
   "metadata": {},
   "source": [
    "```\n",
    "<div class=\"c-section__title-wrap\"><p class=\"c-section__title\" lang=\"en\">IN THE NEWS</p></div>\n",
    "    <ul class=\"p-news-top__in-the-news-list\">\n",
    "        <li class=\"p-news-top__in-the-news-item\">\n",
    "            <a href=\"https://www.asahi.com/articles/ASN6S323LN6RULBJ00R.html\" target=\"_blank\" onClick=\"ga('send','event','focus_outnews','click',this.href ,1,{nonInteraction: true});\">\n",
    "                <p class=\"p-news-top__in-the-news-item-date\">2020年6月24日</p>\n",
    "                <p class=\"p-news-top__in-the-news-item-title\"> 行動変えたきっかけ、「クルーズ船」が最多に　東大調べ （朝日新聞）<img src=\"/content/100074653.png\" alt=\"別ウィンドウで開く\" class=\"window-icon\"></p>\n",
    "            </a>\n",
    "        </li>\n",
    "        <li class=\"p-news-top__in-the-news-item\">\n",
    "            <a href=\"https://digital.asahi.com/articles/ASN6L332LN6KULBJ017.html\" target=\"_blank\" onClick=\"ga('send','event','focus_outnews','click',this.href ,1,{nonInteraction: true});\">\n",
    "                <p class=\"p-news-top__in-the-news-item-date\">2020年6月18日</p>\n",
    "                <p class=\"p-news-top__in-the-news-item-title\"> 謎の信号53個、新素粒子か？　東大など暗黒物質実験（朝日新聞）<img src=\"/content/100074653.png\" alt=\"別ウィンドウで開く\" class=\"window-icon\"></p>\n",
    "            </a>\n",
    "        </li>\n",
    "    </ul>\n",
    "</div>\n",
    "```"
   ]
  },
  {
   "cell_type": "markdown",
   "metadata": {},
   "source": [
    "ここからタグ情報を読み取って、IN THE NEWSの一覧を取得して、**そのタイトルを`news`という名前のリストに代入**してください。   \n",
    "例えば上のようなHTMLソースなら、「行動変えたきっかけ、「クルーズ船」が最多に　東大調べ （朝日新聞）」と「謎の信号53個、新素粒子か？　東大など暗黒物質実験（朝日新聞）」がリスト`news`の要素となります。\n",
    "\n",
    "ヒント：「行動変えたきっかけ、「クルーズ船」が最多に　東大調べ （朝日新聞）」や「謎の信号53個、新素粒子か？　東大など暗黒物質実験（朝日新聞）」を囲んでいるHTMLタグは何でしょうか？"
   ]
  },
  {
   "cell_type": "code",
   "execution_count": 30,
   "metadata": {},
   "outputs": [],
   "source": [
    "### ここに課題２のコードを書いてください\n",
    "news = []\n",
    "for item in soup.find_all('p', attrs={\"class\":\"p-news-top__in-the-news-item-title\"}):\n",
    "        news.append(item.text.replace('\\n', ''))"
   ]
  },
  {
   "cell_type": "markdown",
   "metadata": {},
   "source": [
    "以下のセルで出力すると、東大側のWebページに変更がなければ、以下のように表示されるはずです。   \n",
    "**なお、これは2020年7月6日時点のリストなので、テキストの内容は皆さんがこのプログラムを実行したタイミングによって変わります。**\n",
    "```\n",
    "行動変えたきっかけ、「クルーズ船」が最多に　東大調べ （朝日新聞）\n",
    "謎の信号53個、新素粒子か？　東大など暗黒物質実験（朝日新聞）\n",
    "東大、千人の新型コロナ抗体検査　0.7%が陽性（日本経済新聞）\n",
    "波力発電、実証試験を開始　実用化へ新型装置―東大など（時事通信）\n",
    "＠大学　学問から生きるヒントまで　新型コロナ、混乱の中で学長メッセージ（毎日新聞）\n",
    "```\n",
    "評価の際は変数newsに入っている値が正しいかどうかで評価します。"
   ]
  },
  {
   "cell_type": "code",
   "execution_count": 31,
   "metadata": {},
   "outputs": [
    {
     "name": "stdout",
     "output_type": "stream",
     "text": [
      " 膵炎薬と抗インフル薬、併用で重症患者改善　東大（日本経済新聞）\n",
      " 東大、福島・広野町に放射線の研究拠点　年内めど （日本経済新聞）\n",
      " 行動変えたきっかけ、「クルーズ船」が最多に　東大調べ （朝日新聞）\n",
      " 謎の信号53個、新素粒子か？　東大など暗黒物質実験（朝日新聞）\n",
      " 東大、千人の新型コロナ抗体検査　0.7%が陽性（日本経済新聞）\n"
     ]
    }
   ],
   "source": [
    "# このセルは変更しないでください！\n",
    "for n in news:\n",
    "    print(n)"
   ]
  },
  {
   "cell_type": "code",
   "execution_count": null,
   "metadata": {},
   "outputs": [],
   "source": []
  }
 ],
 "metadata": {
  "kernelspec": {
   "display_name": "Python 3",
   "language": "python",
   "name": "python3"
  },
  "language_info": {
   "codemirror_mode": {
    "name": "ipython",
    "version": 3
   },
   "file_extension": ".py",
   "mimetype": "text/x-python",
   "name": "python",
   "nbconvert_exporter": "python",
   "pygments_lexer": "ipython3",
   "version": "3.7.7"
  }
 },
 "nbformat": 4,
 "nbformat_minor": 2
}
