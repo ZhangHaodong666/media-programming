{
 "cells": [
  {
   "cell_type": "markdown",
   "metadata": {},
   "source": [
    "# 世界銀行（World Bank)からのデータ獲得\n",
    "\n",
    "世界銀行は、189ヶ国各が加盟し、国の中央政府または同政府から債務保証を受けた機関に対し融資を行う国際機関です。  \n",
    "貧困、経済、気候変動、保険、教育、ジェンダーなどの分野で、約8000の開発指標を無料公開しています。   \n",
    "一覧は[こちら](https://data.worldbank.org/indicator)のサイトで提供されています。\n",
    "\n",
    "たとえば\"Economy & Growth\"の\"GDP per capita (current US$)\"を見て見ましょう。  \n",
    "リンクをたどると   \n",
    "\n",
    "[https://data.worldbank.org/indicator/NY.GDP.PCAP.CD?view=chart](https://data.worldbank.org/indicator/NY.GDP.PCAP.CD?view=chart) \n",
    "\n",
    "というアドレスのサイトが開きます。アドレスの「indicator/」の後に続く「NY.GDP.PCAP.CD」がこのデータのインディケータです。   \n",
    "pandas-datareaderでこのインディケータを指定すると、\"GDP per capita (current US$)\"のデータを取得することができます。\n",
    "\n",
    "## GDP per capita (current US$)：一人当たりのGDP （ドル建て）を取得しよう"
   ]
  },
  {
   "cell_type": "code",
   "execution_count": null,
   "metadata": {},
   "outputs": [],
   "source": [
    "from pandas_datareader import wb\n",
    "\n",
    "# 1990年から2017年までの中国（CN), 日本（JP)、米国（US)のデータを取ってきます\n",
    "df = wb.download(indicator='NY.GDP.PCAP.CD', country=['CN', 'JP', 'US'],\n",
    "                start=1990, end=2017)\n",
    "# 出力してみましょう\n",
    "print(df)"
   ]
  },
  {
   "cell_type": "markdown",
   "metadata": {},
   "source": [
    "1列のデータとしてダウンロードされるため、これを行列に変換します。"
   ]
  },
  {
   "cell_type": "code",
   "execution_count": null,
   "metadata": {},
   "outputs": [],
   "source": [
    "df2 = df.unstack(level=0)\n",
    "df2.head()"
   ]
  },
  {
   "cell_type": "markdown",
   "metadata": {},
   "source": [
    "折れ線グラフで表示してみましょう。"
   ]
  },
  {
   "cell_type": "code",
   "execution_count": null,
   "metadata": {},
   "outputs": [],
   "source": [
    "%matplotlib notebook\n",
    "\n",
    "df2.columns = ['China', 'Japan', 'United States'] # 凡例を書き出し\n",
    "df2.plot(grid=True) # グリッド線を描画"
   ]
  },
  {
   "cell_type": "markdown",
   "metadata": {},
   "source": [
    "## Unemployment, total ：失業率（男女合計）\n",
    "失業率のインディケータは「SL.UEM.TOTL.ZS」です。  \n",
    "[https://data.worldbank.org/indicator/SL.UEM.TOTL.ZS?locations=JP-CN-US&view=chart](https://data.worldbank.org/indicator/SL.UEM.TOTL.ZS?locations=JP-CN-US&view=chart)   \n",
    "グラフを描画してみましょう。"
   ]
  },
  {
   "cell_type": "code",
   "execution_count": null,
   "metadata": {},
   "outputs": [],
   "source": [
    "%matplotlib notebook\n",
    "import matplotlib.pyplot as plt\n",
    "from pandas_datareader import wb\n",
    "\n",
    "# 1991年から2018年までの中国（CN), 日本（JP)、米国（US)のデータを取ってきます\n",
    "df = wb.download(indicator='SL.UEM.TOTL.ZS', country=['CN', 'JP', 'US'],\n",
    "                start=1991, end=2018)\n",
    "df2 = df.unstack(level=0)\n",
    "\n",
    "df2.columns = ['China', 'Japan', 'United States']\n",
    "df2.plot(grid=True)\n",
    "plt.show()\n",
    "plt.savefig('fig/WorldBank_SL.UEM.TOTL.ZS.png') # 図を画像として保存"
   ]
  }
 ],
 "metadata": {
  "kernelspec": {
   "display_name": "Python 3",
   "language": "python",
   "name": "python3"
  },
  "language_info": {
   "codemirror_mode": {
    "name": "ipython",
    "version": 3
   },
   "file_extension": ".py",
   "mimetype": "text/x-python",
   "name": "python",
   "nbconvert_exporter": "python",
   "pygments_lexer": "ipython3",
   "version": "3.7.7"
  }
 },
 "nbformat": 4,
 "nbformat_minor": 2
}
