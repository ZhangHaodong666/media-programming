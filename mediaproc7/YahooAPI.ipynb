{
 "cells": [
  {
   "cell_type": "markdown",
   "metadata": {},
   "source": [
    "# Yahoo! Japan Web APIの利用\n",
    "\n",
    "このファイルは参考資料です。   \n",
    "Yahoo! Japan APIを利用するためには、同社のサイトにてアカウントの取得が必要ですが、   \n",
    "個人情報を登録することが必要となるため、**このファイルは実行しなくても結構です。**\n"
   ]
  },
  {
   "cell_type": "code",
   "execution_count": 5,
   "metadata": {
    "scrolled": true
   },
   "outputs": [
    {
     "name": "stdout",
     "output_type": "stream",
     "text": [
      "----------------------------------------\n",
      "集計開始日: 2019-04-12\n",
      "集計終了日: 2019-04-19\n",
      "----------------------------------------\n",
      "1 stay iPhone 充電ケーブル 充電器 コード 1m 1.5m 25cm 50cm 急速充電 断線防止 iPhoneX iPhone8 iPhone7 iPad モバイルバッテリー 強化ナイロン 合金 安心3ヵ月保証\n",
      "2 up カラコン カラーコンタクトレンズ シード アイコフレ ワンデー UV 度あり 度なし 10枚入り 送料無料 医療用具承認番号22400BZX00111000 北川景子\n",
      "3 down グルメ 期間限定 えっ！ 500円 純生 讃岐 うどん お取り寄せ 食品 セール 訳あり ポッキリ お試し ポイント消化 ネコポス 激安 激ウマ 格安 最安値挑戦\n",
      "4 stay iPhoneケーブル 長さ 0.25m 0.5m 1m 1.5m 急速充電 充電器 データ転送ケーブル USBケーブル iPad iPhone用 充電ケーブル iPhone8 Plus iPhoneX 安心３か月保証\n",
      "5 stay モバイルバッテリー 大容量 軽量 薄型 10000mAh 2台同時充電可能 送料無料 2A急速充電 全6カラー セール ポイント消化\n",
      "6 stay クリスタルガイザー 水 ( 500mL*48本入 )/ クリスタルガイザー(Crystal Geyser) ( 水 ミネラルウォーター 500ml 48本入 )\n",
      "7 stay 母の日 ギフト スイーツ プレゼント お菓子 リンツ チョコ チョコレート リンドール 4種類 48個 600g アソート コストコ LINDT LINDOR ポスト投函 送料無料\n",
      "8 up つば広 UVカット  UV 帽子 レディース 大きいサイズ 綿ポリブリムUVハット  日よけ 折りたたみ 飛ばない 春 夏 セール SALE 1000円\n",
      "9 stay iPhone 保護フィルム 強化ガラス ブルーライトカット iPhoneXR iPhoneXS Max iPhone8 7 Plus 各種対応 硬度9H アイフォン\n",
      "10 down シャチハタ キャップレス9   印鑑 ネーム9 ハンコ ネーム印 送料無料\n",
      "11 down 【300円クーポンで680円】【眼科医カラコン】【送料無料】 LA FILLE ラ・フィーユ 10枚パック （ カラコン カラーコンタクト ワンデー 度あり 度なし ）\n",
      "12 stay iPhoneケーブル 長さ 2m 急速充電ケーブル 充電器 データ転送ケーブル USBケーブル iPad用 iPhone用 安心３か月保証 スマホ合金ケーブル iPhone8 Plus iPhoneX\n",
      "13 stay ルイボスティー お茶　ノンカフェイン　ティーライフ　ゼロカロリー　送料無料\n",
      "14 up クリアコンタクト コンタクトレンズ 1DAY Refrear Moisture 38 ワンデーリフレア モイスチャー38 30枚入り コンタクトレンズワンデー ソフトコンタクトレンズ\n",
      "15 stay お試しセール 讃岐生そば8食(180g×3袋+おまけ1袋付) 500円 訳アリ 包材処分品 送料無料 得トクセール わけあり ワンコイン ポイント消化 オープン記念\n",
      "16 up ■予約受付中■＜新発売＞SALONIA ストレートヒートブラシ ブラシ型 ストレートアイロン サロニア 海外対応\n",
      "17 down レギンス リブニット レディース パンツ おしゃれ スパッツ レギパン スキニー ルームウェア レギンスパンツ 美脚  スキニー タイツ\n",
      "18 up Micro USB 充電ケーブル 充電器 スマホ モバイルバッテリー 1m 1.5m 25cm 50cm  Android 断線防止 急速充電 コード ケーブル 高耐久 長持ち 安心3ヵ月保証\n",
      "19 up テーパード パンツ チノパン レディース チノ ストレッチ ボトムス  【lgww-af1133】【予約販売：5月14日入荷予定順次発送】【送料無料】メ込\n",
      "20 up VOX 強炭酸水 500ml×24本 送料無料 世界最高レベルの炭酸充填量5.0 軟水 選べる6種類（北海道・沖縄・離島は送料別途800円）\n"
     ]
    }
   ],
   "source": [
    "#coding:utf-8\n",
    "\n",
    "import sys\n",
    "import urllib\n",
    "import json\n",
    "\n",
    "def yapi_topics():\n",
    "    url = 'YOUR URL'\n",
    "    appid = 'YOUR APPID'\n",
    "\n",
    "    params = urllib.parse.urlencode(\n",
    "            {'appid': appid,\n",
    "             'offset':1,\n",
    "             'period':'weekly',\n",
    "             'generation':30,\n",
    "             'gender':'female',})\n",
    "\n",
    "    #print url + params\n",
    "    response = urllib.request.urlopen(url + params)\n",
    "    return response.read()\n",
    "\n",
    "def do_json(s):\n",
    "    data = json.loads(s)\n",
    "    #print(json.dumps(data, sort_keys=True, indent=4)); sys.exit()\n",
    "    \n",
    "    #jsonの階層の\"Result\"以下を辞書にする。keyは番号：その次の配列がvalueになっている\n",
    "    item_list = data[\"ResultSet\"][\"0\"][\"Result\"]\n",
    "\n",
    "    #空のディクショナリを作る\n",
    "    ranking = {}\n",
    "    for  k, v in item_list.items():\n",
    "        try:\n",
    "            rank = int(v[\"_attributes\"][\"rank\"])\n",
    "            vector = v[\"_attributes\"][\"vector\"]\n",
    "            name  = v[\"Name\"]\n",
    "            ranking[rank] = [vector, name]\n",
    "        except:\n",
    "            if k == \"RankingInfo\":\n",
    "                StartDate = v[\"StartDate\"]\n",
    "                EndDate = v[\"EndDate\"]\n",
    "    \n",
    "    print('-' * 40)\n",
    "    print(u\"集計開始日:\", StartDate)\n",
    "    print(u\"集計終了日:\", EndDate)\n",
    "    print('-' * 40)\n",
    "    ranking_keys = list(ranking.keys())\n",
    "    ranking_keys.sort()\n",
    "    for i in ranking_keys:\n",
    "        print(i, ranking[i][0], ranking [i][1])\n",
    "\n",
    "if __name__ == '__main__':\n",
    "    json_str = yapi_topics()\n",
    "    do_json(json_str)"
   ]
  }
 ],
 "metadata": {
  "kernelspec": {
   "display_name": "Python 3",
   "language": "python",
   "name": "python3"
  },
  "language_info": {
   "codemirror_mode": {
    "name": "ipython",
    "version": 3
   },
   "file_extension": ".py",
   "mimetype": "text/x-python",
   "name": "python",
   "nbconvert_exporter": "python",
   "pygments_lexer": "ipython3",
   "version": "3.7.7"
  }
 },
 "nbformat": 4,
 "nbformat_minor": 2
}
