{
 "cells": [
  {
   "cell_type": "markdown",
   "metadata": {},
   "source": [
    "# Twitter APIの利用\n",
    "\n",
    "このファイルは参考資料です。   \n",
    "Twitter APIを利用するためには、同社のサイトにてアカウントの取得が必要ですが、   \n",
    "個人情報を登録することが必要となるため、**このファイルは実行しなくても結構です。**\n",
    "\n",
    "\n",
    "## 拡張モジュールのインストール\n",
    "\n",
    "まず始めにAnaconda Navigatorでrequests-oauthlibをインストールします。\n",
    "\n",
    "また追加でtweepyというモジュールも必要です。   \n",
    "tweepyはAnaconda Navigatorではインストールできないので、Anaconda Promptを開いて、以下のコマンドでインストールします。\n",
    "\n",
    "`% pip install tweepy`\n",
    "\n",
    "なお、Twitter apiには15分あたりに15回（リクエストの種類によっては180回）のアクセス制限があり、  \n",
    "それを超えると15分間は`Rate limit exceeded`というメッセージが返され、  \n",
    "アクセスが遮断されるので注意してください（15分待てば回復するはずです）。   \n",
    "\n",
    "\n",
    "詳しくは[こちら](https://developer.twitter.com/en/docs/basics/rate-limiting.html)にあります。"
   ]
  },
  {
   "cell_type": "code",
   "execution_count": 2,
   "metadata": {},
   "outputs": [
    {
     "name": "stdout",
     "output_type": "stream",
     "text": [
      "Requirement already satisfied: tweepy in e:\\anaconda\\envs\\using\\lib\\site-packages (3.9.0)\n",
      "Requirement already satisfied: six>=1.10.0 in e:\\anaconda\\envs\\using\\lib\\site-packages (from tweepy) (1.14.0)\n",
      "Requirement already satisfied: requests-oauthlib>=0.7.0 in e:\\anaconda\\envs\\using\\lib\\site-packages (from tweepy) (1.3.0)\n",
      "Requirement already satisfied: requests[socks]>=2.11.1 in e:\\anaconda\\envs\\using\\lib\\site-packages (from tweepy) (2.23.0)\n",
      "Requirement already satisfied: oauthlib>=3.0.0 in e:\\anaconda\\envs\\using\\lib\\site-packages (from requests-oauthlib>=0.7.0->tweepy) (3.1.0)\n",
      "Requirement already satisfied: chardet<4,>=3.0.2 in e:\\anaconda\\envs\\using\\lib\\site-packages (from requests[socks]>=2.11.1->tweepy) (3.0.4)\n",
      "Requirement already satisfied: certifi>=2017.4.17 in e:\\anaconda\\envs\\using\\lib\\site-packages (from requests[socks]>=2.11.1->tweepy) (2020.4.5.1)\n",
      "Requirement already satisfied: urllib3!=1.25.0,!=1.25.1,<1.26,>=1.21.1 in e:\\anaconda\\envs\\using\\lib\\site-packages (from requests[socks]>=2.11.1->tweepy) (1.25.8)\n",
      "Requirement already satisfied: idna<3,>=2.5 in e:\\anaconda\\envs\\using\\lib\\site-packages (from requests[socks]>=2.11.1->tweepy) (2.9)\n",
      "Requirement already satisfied: PySocks!=1.5.7,>=1.5.6; extra == \"socks\" in e:\\anaconda\\envs\\using\\lib\\site-packages (from requests[socks]>=2.11.1->tweepy) (1.7.1)\n"
     ]
    }
   ],
   "source": [
    "!pip install tweepy"
   ]
  },
  {
   "cell_type": "markdown",
   "metadata": {},
   "source": [
    "# Twitterから特定ユーザの情報を取得\n",
    "\n",
    "特定ユーザ(以下の例では東京大学 @UTokyo_News）の情報を取得します。\n"
   ]
  },
  {
   "cell_type": "code",
   "execution_count": 3,
   "metadata": {},
   "outputs": [
    {
     "ename": "ModuleNotFoundError",
     "evalue": "No module named 'yyconfig'",
     "output_type": "error",
     "traceback": [
      "\u001b[1;31m---------------------------------------------------------------------------\u001b[0m",
      "\u001b[1;31mModuleNotFoundError\u001b[0m                       Traceback (most recent call last)",
      "\u001b[1;32m<ipython-input-3-028158a8b141>\u001b[0m in \u001b[0;36m<module>\u001b[1;34m\u001b[0m\n\u001b[0;32m      1\u001b[0m \u001b[1;32mimport\u001b[0m \u001b[0mtweepy\u001b[0m\u001b[1;33m\u001b[0m\u001b[1;33m\u001b[0m\u001b[0m\n\u001b[1;32m----> 2\u001b[1;33m \u001b[1;32mimport\u001b[0m \u001b[0myyconfig\u001b[0m\u001b[1;33m\u001b[0m\u001b[1;33m\u001b[0m\u001b[0m\n\u001b[0m\u001b[0;32m      3\u001b[0m \u001b[1;33m\u001b[0m\u001b[0m\n\u001b[0;32m      4\u001b[0m \u001b[0mCONSUMER_KEY\u001b[0m \u001b[1;33m=\u001b[0m \u001b[1;34m'xxxxx'\u001b[0m\u001b[1;33m\u001b[0m\u001b[1;33m\u001b[0m\u001b[0m\n\u001b[0;32m      5\u001b[0m \u001b[0mCONSUMER_SECRET\u001b[0m \u001b[1;33m=\u001b[0m \u001b[1;34m'xxxxx'\u001b[0m\u001b[1;33m\u001b[0m\u001b[1;33m\u001b[0m\u001b[0m\n",
      "\u001b[1;31mModuleNotFoundError\u001b[0m: No module named 'yyconfig'"
     ]
    }
   ],
   "source": [
    "import tweepy\n",
    "import yyconfig\n",
    "\n",
    "CONSUMER_KEY = 'xxxxx'\n",
    "CONSUMER_SECRET = 'xxxxx'\n",
    "ACCESS_TOKEN = 'xxxxx'\n",
    "ACCESS_TOKEN_SECRET = 'xxxxx'\n",
    "\n",
    "# ↓探したいユーザーの「@」以降のアカウント名を入れる\n",
    "screen_name = 'UTokyo_News'\n",
    "\n",
    "auth = tweepy.OAuthHandler(CONSUMER_KEY, CONSUMER_SECRET)\n",
    "auth.set_access_token(ACCESS_TOKEN, ACCESS_TOKEN_SECRET)\n",
    "api = tweepy.API(auth)\n",
    "user_info = api.get_user(screen_name=screen_name)\n",
    "print(user_info)\n"
   ]
  },
  {
   "cell_type": "markdown",
   "metadata": {},
   "source": [
    "## 情報を見やすく整形"
   ]
  },
  {
   "cell_type": "code",
   "execution_count": 2,
   "metadata": {},
   "outputs": [
    {
     "name": "stdout",
     "output_type": "stream",
     "text": [
      "【名前】東京大学 | UTokyo\n",
      "【アカウント名】UTokyo_News\n",
      "【自己紹介】東京大学の公式Twitterアカウントです。 (English: @UTokyo_News_en)  東京大学の取組み、活動状況をお知らせします。\n",
      "【画像URL】https://pbs.twimg.com/profile_images/741125819200868353/dGZZ8ywt_normal.jpg\n",
      "【フォロー数】:43\n",
      "【フォロワー数】:51309\n"
     ]
    }
   ],
   "source": [
    "print('【名前】{}\\n【アカウント名】{}\\n【自己紹介】{}\\n【画像URL】{}\\n【フォロー数】:{}\\n【フォロワー数】:{}'\n",
    "      .format(user_info.name, user_info.screen_name, user_info.description, \n",
    "              user_info.profile_image_url_https, user_info.friends_count, user_info.followers_count))\n"
   ]
  },
  {
   "cell_type": "markdown",
   "metadata": {},
   "source": [
    "## 当該ユーザがフォローしているユーザのリストを表示"
   ]
  },
  {
   "cell_type": "code",
   "execution_count": 3,
   "metadata": {},
   "outputs": [
    {
     "name": "stdout",
     "output_type": "stream",
     "text": [
      "1:\t東京大学男女共同参画室 ::: @UTokyodanjo\n",
      "2:\t東京大学医科学研究所 ::: @Japanese_IMSUT\n",
      "3:\t東京大学災害時情報／UTokyo Disaster Information ::: @UTokyo_emerg\n",
      "4:\t東京大学総合図書館 ::: @UTokyo_GenLib\n",
      "5:\t東京カレッジ / Tokyo College ::: @CollegeTokyo\n",
      "6:\tIRCN_UTokyo ::: @IRCN_UTokyo\n",
      "7:\t東京大学史料編纂所 ::: @UTokyo_HI\n",
      "8:\tキミの東大―高校生・受験生向けサイト ::: @KiminoUTokyo\n",
      "9:\tPHISEM ::: @PHISEM_UT\n",
      "10:\t東京大学附属図書館ASKサービス ::: @UTokyoLibAsk\n",
      "11:\tアカデミックコモンズサポーター ::: @acsUTokyoNewLib\n",
      "12:\tU-PARL ::: @U_PARL\n",
      "13:\tCSIS official ::: @CSISut\n",
      "14:\t東大FFP「教える」を学ぶ ::: @TodaiFD\n",
      "15:\tInteractive Teaching ::: @InteractivTeach\n",
      "16:\t東大TV ::: @UTokyoTV\n",
      "17:\tKavli IPMU ::: @KavliIPMU\n",
      "18:\t東京大学大気海洋研究所図書室 ::: @UTokyo_aorilib\n",
      "19:\t東京大学 物性研究所 ::: @UTokyo_issp\n",
      "20:\t宇宙線研究所 ::: @ICRRpr\n",
      "21:\ttobunken (IASA, UT) ::: @tobunken\n",
      "22:\t東京大学情報学環・学際情報学府図書室 ::: @UTokyo_iiiLib\n",
      "23:\t東京大学駒場図書館 ::: @UTokyoKomabaLib\n",
      "24:\t東京大学駒場博物館 ::: @komabamuseum\n",
      "25:\t東京大学農学生命科学図書館 ::: @UTokyo_AgLib\n",
      "26:\t東大農学部 ::: @UTokyo_Agri\n",
      "27:\t東京大学工学部広報室 ::: @Eng_Univ_Tokyo\n",
      "28:\tGraSPP 東京大学公共政策大学院 ::: @UTokyoGraSPP\n",
      "29:\t東京大学地球惑星科学専攻 ::: @eps_UTokyo\n",
      "30:\t東京大学法学部附属明治新聞雑誌文庫＠休館中 ::: @UTokyo_LMeiji\n",
      "31:\t東大GACoS ::: @gacos_utokyo\n",
      "32:\t東京大学基金(Giving to UTokyo) ::: @GivingtoUTokyo\n",
      "33:\t東京大学 体験活動プログラム ::: @UTokyotaiken\n",
      "34:\tNihongo Center, UTokyo ::: @TodaiNihongoC\n",
      "35:\tUTokyo_OCW ::: @UTokyo_OCW\n",
      "36:\t東京大学生協駒場購買部 ::: @komabakoubai\n",
      "37:\tインターメディアテク ::: @IMT_Tokyo\n",
      "38:\tPEAK, Univ. of Tokyo ::: @Todai_PEAK\n",
      "39:\t東京大学先端科学技術研究センター ::: @UTokyo_Rcast\n",
      "40:\t東京大学未来ビジョン研究センター ::: @UTokyoIFI\n",
      "41:\t東京大学新図書館計画 ::: @UTokyoNewLib\n",
      "42:\tUTokyo Go Global ::: @todai_global\n",
      "43:\t東大ナビ:東京大学公式イベント情報 ::: @UTokyo_navi\n"
     ]
    }
   ],
   "source": [
    "friends_ids = []\n",
    "# フォローした人のIDを全取得\n",
    "# Cursor使うとすべて取ってきてくれるが，配列ではなくなるので配列に入れる\n",
    "for friend_id in tweepy.Cursor(api.friends_ids, user_id=user_info.id).items():\n",
    "    friends_ids.append(friend_id)\n",
    "\n",
    "# 100IDsずつに詳細取得\n",
    "num = 1\n",
    "for i in range(0, len(friends_ids), 100):\n",
    "    for user in api.lookup_users(user_ids=friends_ids[i:i+100]):\n",
    "        print(str(num) + ':\\t' + str(user.name) + \" ::: @\" + str(user.screen_name))\n",
    "        num += 1\n",
    "        "
   ]
  },
  {
   "cell_type": "markdown",
   "metadata": {},
   "source": [
    "## 当該ユーザをフォローしているフォロワーの表示\n",
    "\n",
    "Twitter情報の取得は、一気にやりすぎると、その取得元のアカウントが15分程度遮断されるので注意してください。"
   ]
  },
  {
   "cell_type": "code",
   "execution_count": 4,
   "metadata": {},
   "outputs": [
    {
     "name": "stdout",
     "output_type": "stream",
     "text": [
      "1:\txxxxbhv ::: @xxxxbhv\n",
      "2:\tYoshinari Hirayama ::: @yoshinari_h\n",
      "3:\tSST ::: @SST11097999\n",
      "4:\t北澤　理 ::: @xaqUPW9oXdOJ2Hl\n",
      "5:\tほまーれまれ ::: @kiwamare\n",
      "6:\t寿浪人 ::: @0fQS6aNxYPa92eQ\n",
      "7:\tSHINJI ::: @SHINJI_0705\n",
      "8:\tブルークロウ田中@ド底辺高校から旧帝国大学を目指す！ ::: @vFlbcXe1MlVJKXX\n",
      "9:\tあ ::: @xpP82UUPbjfqNOf\n",
      "10:\tフェルミ ::: @vGUfZwQEIy3mr70\n"
     ]
    }
   ],
   "source": [
    "followers_ids = []\n",
    "# フォローした人のIDを全取得\n",
    "# Cursor使うとすべて取ってきてくれるが，配列ではなくなるので配列に入れる\n",
    "for follower_id in tweepy.Cursor(api.followers_ids, user_id=user_info.id).items(10):\n",
    "    followers_ids.append(follower_id)\n",
    "\n",
    "num = 1\n",
    "for user in api.lookup_users(user_ids=followers_ids):\n",
    "    print(str(num) + ':\\t' + str(user.name) + \" ::: @\" + str(user.screen_name))\n",
    "    num += 1\n",
    "        "
   ]
  },
  {
   "cell_type": "markdown",
   "metadata": {},
   "source": [
    "## twitterのキーワード検索\n",
    "\n",
    "特定キーワード（以下の例では「東京大学」）を含むツイートを検索して表示します。"
   ]
  },
  {
   "cell_type": "code",
   "execution_count": 5,
   "metadata": {},
   "outputs": [
    {
     "name": "stdout",
     "output_type": "stream",
     "text": [
      "【名前】同志社卒 増田真知宇 先生 ますだまちう 京都府 長岡京市 真知宇 相互フォロー支援アカウント\n",
      "【アカウント名】machiumasuda_go\n",
      "【本文】毎年東京大学合格者数十人の名門女子校 豊島岡女子学園高校生JKも京都府長岡京市の増田真知宇（ますだまちう）先生の #リツイート に感激 #増田真知宇 #長岡天神 #ますだまちう #乙訓 #長岡京市 #真知宇 #retweet #RT https://t.co/ihD65kVmU2\n",
      "【時刻】:2020-07-05 21:06:00\n",
      "\n",
      "【名前】フザリウム\n",
      "【アカウント名】Lentinu_edodes\n",
      "【本文】佐賀の山口知事、東京大学大学院総合文化研究科客員教授の肩書もあるから調べたけど一覧にすら載せてもらえてない\n",
      "【時刻】:2020-07-05 21:03:33\n",
      "\n",
      "【名前】SHINJI\n",
      "【アカウント名】SHINJI_0705\n",
      "【本文】このアカウントは政治アカウントではないんだよー。\n",
      "\n",
      "歌舞伎町と東京大学と霞ヶ関\n",
      "そして、「学問」と「研究 」のアカウントで\n",
      "趣味についてもワイワイできるのにしたかったのにぃ\n",
      "\n",
      "どうしても今日は東京都知事選だから\n",
      "話題が都知事選になってしまう悲しみ\n",
      "【時刻】:2020-07-05 21:01:37\n",
      "\n",
      "【名前】技術経営戦略学専攻院試対策室\n",
      "【アカウント名】tmi_intro\n",
      "【本文】東京大学技術経営戦略学TMIから i をさけぶ https://t.co/0LhMlGEMNl\n",
      "【時刻】:2020-07-05 21:00:59\n",
      "\n",
      "【名前】913\n",
      "【アカウント名】momopengu\n",
      "【本文】RT @nextleaderofJP: 東京大学の一部は確かに左翼の教授に支配されて出身者も左翼が多いかも知れません。\n",
      "しかし、じゃあ東大を潰そう！となるのは余りにも短絡的です。\n",
      "東京大学は基礎研究、京都大学は独自研究で科学技術大国日本への貢献度は凄まじいです。\n",
      "悪いのは東大で…\n",
      "【時刻】:2020-07-05 20:59:39\n",
      "\n",
      "【名前】アイザック・ニート\n",
      "【アカウント名】Sakura_nonno46\n",
      "【本文】東京ディズニーランドとららぽーと東京ベイと新東京国際空港と新東京病院、東京大学柏キャンパスのある千葉県民に東京都知事選挙の選挙権がないのはどうなんでしょうねｗ\n",
      "【時刻】:2020-07-05 20:58:42\n",
      "\n",
      "【名前】車　直樹\n",
      "【アカウント名】ADC72264\n",
      "【本文】「東京大学7浪伝説」エピソード010\n",
      "４浪目、駿台でプラトンについての\n",
      "英語の文を丸々暗記した！\n",
      "お弁当屋さんで暗記した英文を口ずさんでいると\n",
      "オバちゃんが「出来るのが遅くてブツブツ言ってる！」と思ったようだ！\n",
      "さぞかし僕が変人奇… https://t.co/GNeFDCVCS7\n",
      "【時刻】:2020-07-05 20:57:58\n",
      "\n",
      "【名前】Jun  Matsumoto\n",
      "【アカウント名】enjoyarashi\n",
      "【本文】RT @arashi5official: 今日9日(土)から配信を開始する『嵐のワクワク学校オンライン』2回目の授業は、櫻井先生の「新型コロナウイルスを知ろう」。京都大学iPS細胞研究所の山中伸弥先生、東京大学医科学研究所ウイルス感染分野河岡義裕教授をお招きし、お話を伺います。…\n",
      "【時刻】:2020-07-05 20:56:43\n",
      "\n",
      "【名前】国際信州学院大学 航空部(公式)\n",
      "【アカウント名】UnivAeroSpace\n",
      "【本文】東京大学大学院 工学系研究科 航空宇宙工学専攻 の院試勉強体験談\n",
      " \n",
      "煽りが激しい教授\n",
      "「スポーツ選手は日々練習するよね？君達は日々勉強に励んでいいるかな？？wwwうちの院試は世界一難しいよ？？www」(実話)\n",
      "\n",
      "https://t.co/ce08etbZqq\n",
      "【時刻】:2020-07-05 20:56:18\n",
      "\n",
      "【名前】受験アプリUniLink\n",
      "【アカウント名】unilink_study\n",
      "【本文】#東京大学文科三類 Mxさんが回答しました。\n",
      "【ターゲットの終わりと鉄壁への移行時期】\n",
      "東京大学文科三類に所属している者です。\n",
      "\n",
      "自分もターゲットから鉄壁に乗り換えました。その理由は｢タ...\n",
      "https://t.co/jHXT4MED3b\n",
      "【時刻】:2020-07-05 20:54:16\n",
      "\n"
     ]
    }
   ],
   "source": [
    "import datetime\n",
    "\n",
    "i = 1\n",
    "# twitter内を検索し、結果をエクセルに書き込む\n",
    "for status in api.search(q='\"東京大学\"', lang='ja', result_type='recent',count=10):\n",
    "    print('【名前】{}\\n【アカウント名】{}\\n【本文】{}\\n【時刻】:{}'\n",
    "      .format(status.user.name, status.user.screen_name, status.text, status.created_at+ datetime.timedelta(hours=9)))\n",
    "    print()\n",
    "    i = i + 1\n"
   ]
  }
 ],
 "metadata": {
  "kernelspec": {
   "display_name": "Python 3",
   "language": "python",
   "name": "python3"
  },
  "language_info": {
   "codemirror_mode": {
    "name": "ipython",
    "version": 3
   },
   "file_extension": ".py",
   "mimetype": "text/x-python",
   "name": "python",
   "nbconvert_exporter": "python",
   "pygments_lexer": "ipython3",
   "version": "3.7.7"
  }
 },
 "nbformat": 4,
 "nbformat_minor": 2
}
