{
 "cells": [
  {
   "cell_type": "markdown",
   "metadata": {},
   "source": [
    "# Colaboratoryで実行する場合\n",
    "以下を実行して、外部ファイルをダウンロードしてください。   \n",
    "**このセルはColaboratoryを起動するたびに必要となります**   "
   ]
  },
  {
   "cell_type": "code",
   "execution_count": null,
   "metadata": {},
   "outputs": [],
   "source": [
    "##################################\n",
    "### Colaboratoryのみ以下を実行 ###\n",
    "##################################\n",
    "import sys\n",
    "if 'google.colab' in sys.modules:\n",
    "    !pip install mpl_finance\n",
    "    !mkdir fig"
   ]
  },
  {
   "cell_type": "markdown",
   "metadata": {},
   "source": [
    "# 日本の株式銘柄データの取得：Stooq\n",
    "\n"
   ]
  },
  {
   "cell_type": "markdown",
   "metadata": {},
   "source": [
    "## サンプルプログラムの実行\n",
    "\n",
    "pandas_datareaderを使ってトヨタの株価を取得してみましょう。\n",
    "\n",
    "東京証券取引所の株式データはstooq.comというポーランドの会社が提供しています。1日250回のアクセス制限があるので注意してください。\n",
    "\n",
    "```\n",
    "Open : 始値\n",
    "High : 高値\n",
    "Low : 安値\n",
    "Close : 終値\n",
    "Volume: 出来高\n",
    "```\n",
    "インディケータは銘柄コードの後ろに\".JP\"をつけたものです。  \n",
    "例えば「イオン株式会社」の銘柄コードは8267ですから、インディケータは\"8267.JP\"となります。"
   ]
  },
  {
   "cell_type": "code",
   "execution_count": null,
   "metadata": {},
   "outputs": [],
   "source": [
    "import pandas_datareader.data as web\n",
    "\n",
    "import datetime\n",
    "\n",
    "#株価取得 8267はイオン株式会社の銘柄コードです。\n",
    "df = web.DataReader('8267.JP', \"stooq\")\n",
    "df = df.sort_index()\n",
    "df.tail()"
   ]
  },
  {
   "cell_type": "markdown",
   "metadata": {},
   "source": [
    "データを整形します。処理内容はWebDataProcessing3.ipynbと同じですので、そちらを参照してください。"
   ]
  },
  {
   "cell_type": "code",
   "execution_count": null,
   "metadata": {},
   "outputs": [],
   "source": [
    "from datetime import datetime\n",
    "import matplotlib.dates as mdates\n",
    "\n",
    "start = datetime(2019, 1, 1) # 開始日\n",
    "end = datetime(2019, 3, 31) # 終了日\n",
    "\n",
    "ohlc = df.loc[start:end, ['Open', 'High', 'Low', 'Close']] # 出来高以外の値をコピー\n",
    "\n",
    "ohlc.index = mdates.date2num(ohlc.index) # indexをdatetime形式から数値に変換\n",
    "\n",
    "data = ohlc.reset_index().values # DataFrameを二次元配列のリストに変換\n"
   ]
  },
  {
   "cell_type": "markdown",
   "metadata": {},
   "source": [
    "ローソク足を描画してみましょう。"
   ]
  },
  {
   "cell_type": "code",
   "execution_count": null,
   "metadata": {},
   "outputs": [],
   "source": [
    "%matplotlib inline\n",
    "import matplotlib.pyplot as plt\n",
    "import mpl_finance\n",
    "\n",
    "fig = plt.figure(figsize=(7, 3)) # figure(図を配置する画面)のサイズを指定\n",
    "ax = plt.subplot() # 図を描画する領域を準備\n",
    "\n",
    "# mpl_financeのcandlestick_ohlc関数を使ってローソク足を描画\n",
    "mpl_finance.candlestick_ohlc(ax, data, width=0.7, colorup='g', colordown='r')\n",
    "\n",
    "ax.grid()  # グリッド表示を描画\n",
    "locator = mdates.AutoDateLocator() # x軸の日付ラベルを自動調整する\n",
    "#locator = mdates.MonthLocator() # x軸を月単位のラベルにする\n",
    "#locator = mdates.YearLocator() # x軸を年単位のラベルにする\n",
    "ax.xaxis.set_major_locator(locator) # X軸のメモリを設定\n",
    "ax.xaxis.set_major_formatter(mdates.AutoDateFormatter(locator)) # X軸のメモリをdateフォーマットに変更\n",
    "\n",
    "fig.autofmt_xdate() # X軸の日付ラベルが見やすくなるよう回転\n",
    "#plt.setp(ax.get_xticklabels(), rotation=30, horizontalalignment='right')# 軸を右揃えにして斜めに\n",
    "fig.tight_layout() # 図がはみ出さないようにレイアウト\n",
    "plt.savefig('fig/Stooq.png') # 図を画像として保存"
   ]
  }
 ],
 "metadata": {
  "kernelspec": {
   "display_name": "Python 3",
   "language": "python",
   "name": "python3"
  },
  "language_info": {
   "codemirror_mode": {
    "name": "ipython",
    "version": 3
   },
   "file_extension": ".py",
   "mimetype": "text/x-python",
   "name": "python",
   "nbconvert_exporter": "python",
   "pygments_lexer": "ipython3",
   "version": "3.7.7"
  }
 },
 "nbformat": 4,
 "nbformat_minor": 2
}
