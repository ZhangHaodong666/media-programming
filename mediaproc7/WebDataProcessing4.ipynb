{
 "cells": [
  {
   "cell_type": "markdown",
   "metadata": {},
   "source": [
    "# Colaboratoryで実行する場合\n",
    "以下を実行して、外部ファイルをダウンロードしてください。   \n",
    "**このセルはColaboratoryを起動するたびに必要となります**   "
   ]
  },
  {
   "cell_type": "code",
   "execution_count": null,
   "metadata": {},
   "outputs": [],
   "source": [
    "##################################\n",
    "### Colaboratoryのみ以下を実行 ###\n",
    "##################################\n",
    "import sys\n",
    "if 'google.colab' in sys.modules:\n",
    "    !wget http://www.hal.t.u-tokyo.ac.jp/~yamakata/lecture/mediaproc/mediaproc7/TM_20180101-20190331_stock.csv\n",
    "    !pip install mpl_finance\n",
    "    !mkdir fig"
   ]
  },
  {
   "cell_type": "markdown",
   "metadata": {},
   "source": [
    "# ウェブデータ処理４：時系列データの表現と可視化２\n",
    "\n",
    "時系列データは、そのままの状態だと人間にとって見づらいだけでなく、機械学習を適用する際にもよい結果を得ることが難しい場合が多いです。  \n",
    "元のデータから、そこで起こっている現象をわかりやすく説明するような情報を取り出すことを「特徴抽出」と言います。\n",
    "\n",
    "株価履歴を使って、時系列データから特徴を抽出してみましょう。"
   ]
  },
  {
   "cell_type": "markdown",
   "metadata": {},
   "source": [
    "## 1. 前資料の再現\n",
    "\n",
    "前の資料でデータの読み込みとローソク足チャートの描画までをやりました。   \n",
    "そこまでを再現します。\n",
    "\n",
    "### 1.1 株価データの読み込み（csvから）\n",
    "\n",
    "まずデータを読み込みましょう。  \n",
    "このデータは2018年1月1日～2019年3月31日までの米国でのトヨタの株価データです。"
   ]
  },
  {
   "cell_type": "code",
   "execution_count": null,
   "metadata": {},
   "outputs": [],
   "source": [
    "import pandas as pd\n",
    "\n",
    "sdf = pd.read_csv('TM_20180101-20190331_stock.csv')\n",
    "sdf['date'] = pd.to_datetime(sdf['date']) # 'date'キーの値は日付を表す文字列なので、to_datetimeを適用してdatetime64型に変換\n",
    "sdf.set_index('date', inplace=True) # 次に、set_index()メソッドで'date'キーの列をインデックスに指定する。\n",
    "sdf.head()"
   ]
  },
  {
   "cell_type": "markdown",
   "metadata": {},
   "source": [
    "### 1.2 ローソク足チャートの描画\n",
    "dataFrame形式の株価データを加工し、mpl_financeモジュールを利用してローソク足チャートを描画します。"
   ]
  },
  {
   "cell_type": "code",
   "execution_count": null,
   "metadata": {},
   "outputs": [],
   "source": [
    "%matplotlib inline\n",
    "\n",
    "import matplotlib.pyplot as plt\n",
    "import mpl_finance\n",
    "import matplotlib.dates as mdates\n",
    "from datetime import datetime\n",
    "\n",
    "start = datetime(2018, 4, 1)\n",
    "end = datetime(2019, 3, 31)\n",
    "\n",
    "ohlc = sdf.loc[start:end, ['open', 'high', 'low', 'close']] # 出来高は単位が違うので除く\n",
    "ohlc.index = mdates.date2num(ohlc.index.to_pydatetime()) # indexをdatetime形式から数値に変換\n",
    "\n",
    "data = ohlc.reset_index().values # matrixに変換\n",
    "\n",
    "fig = plt.figure(figsize=(7, 3)) # figure(図を配置する画面)のサイズを指定\n",
    "ax = plt.subplot()\n",
    "mpl_finance.candlestick_ohlc(ax, data, width=0.7, colorup='g', colordown='r')\n",
    "ax.grid()  # グリッド表示\n",
    "locator = mdates.AutoDateLocator() # x軸(xaxis)を日付(Date)単位(major)のラベルにする(set)\n",
    "#locator = mdates.DayLocator() # x軸を日単位のラベルにする\n",
    "#locator = mdates.MonthLocator() # x軸を月単位のラベルにする\n",
    "#locator = mdates.YearLocator() # x軸を年単位のラベルにする\n",
    "ax.xaxis.set_major_locator(locator)\n",
    "ax.xaxis.set_major_formatter(mdates.AutoDateFormatter(locator))\n",
    "fig.autofmt_xdate() # X軸の日付ラベルが見やすくなるよう回転\n",
    "plt.savefig('fig/WebDataProcessing4-1.png') # 図を画像として保存"
   ]
  },
  {
   "cell_type": "markdown",
   "metadata": {},
   "source": [
    "このように、1年以上のデータをグラフ化すると、日ごとのデータ（日足データ）では細かすぎて見づらいですね。  \n",
    "そこで、日足を週足にまとめることを考えましょう。  \n",
    "まとめるということは、すなわち、サンプルを記録する頻度を減らすということです。   \n",
    "時系列データに対してサンプルの記録頻度を減らすことを**ダウンサンプリング**と呼びます。"
   ]
  },
  {
   "cell_type": "markdown",
   "metadata": {},
   "source": [
    "## 2. ダウンサンプリング\n",
    "\n",
    "与えられた株価データは1日ごとの値（日足）です。   \n",
    "ですが、半年の変化を見たいとき、日足でローソクチャートを出しても何が何だか分かりませんね。   \n",
    "そこで、週足データに変換したいと思います。\n",
    "\n",
    "１週間分の日足データとその週の週足データは次のような関係になっています。\n",
    "\n",
    "| key | 処理 |\n",
    "| ---- | ---- |\n",
    "| open | 最初の値 (first) |\n",
    "| high | 最大値 (max) |\n",
    "| low | 最小値 (min) |\n",
    "| close | 最後の値 (close) |\n",
    "| volume | 総和 (sum) |\n",
    "\n",
    "ここで挙げた処理のような一般的な集計は、DataFrame形式では一気に行うことができます。   \n",
    "たとえばsdf.mean()とすれば、各ラベルのデータについて平均値が計算されます。"
   ]
  },
  {
   "cell_type": "code",
   "execution_count": null,
   "metadata": {},
   "outputs": [],
   "source": [
    "print(sdf.mean()) # 平均値を出力"
   ]
  },
  {
   "cell_type": "markdown",
   "metadata": {},
   "source": [
    "ラベルごとに異なる処理を行う場合は、その対応関係をあらかじめ辞書として用意しておき、それを`agg`関数でまとめて適用することもできます。  \n",
    "ただし、firstやlastなどは、下の関数resampleで区間に分けてからしか計算できませんので、\n",
    "ここではaggを試すため、ラベルごとに平均値（mean)をとってみましょう\n"
   ]
  },
  {
   "cell_type": "code",
   "execution_count": null,
   "metadata": {},
   "outputs": [],
   "source": [
    "d_ohlcv = {'open': 'mean',\n",
    "           'high': 'mean',\n",
    "           'low': 'mean',\n",
    "           'close': 'mean',\n",
    "           'volume': 'mean'}\n",
    "sdf.agg(d_ohlcv)"
   ]
  },
  {
   "cell_type": "markdown",
   "metadata": {},
   "source": [
    "この計算を週単位でやればいいということですね。\n",
    "\n",
    "DataFrameを特定の単位ごとにまとめるにはresampleを使います。   \n",
    "ここでは間隔を週とし、週の開始日は毎週月曜としましょう。   \n",
    "また、開始日をその週に含めるため`closed = 'left'`   \n",
    "ラベルの日付に月曜日の日を使うため`label = 'left'`とします。\n",
    "\n",
    "resampleしたDataFrameには以下の処理が実行できます。  \n",
    "\n",
    "| 関数|処理内容 |\n",
    "| --- | --- |\n",
    "| count | 数を数える |\n",
    "| nunique | ユニークな要素の数 |\n",
    "| first | 最初の値 |\n",
    "| last |  最後の値 |\n",
    "| max | 最大値 |\n",
    "| mean | 平均値 |\n",
    "| median | 中央値 |\n",
    "| min | 最小値 |\n",
    "| ohlc | ohlcデータ |\n",
    "| prod | 積 |\n",
    "| size | サイズ |\n",
    "| std | 標準偏差 |\n",
    "| sum | 和 |\n",
    "| var | 分散 |\n",
    "| quantile | 分位数・パーセンタイル |\n"
   ]
  },
  {
   "cell_type": "code",
   "execution_count": null,
   "metadata": {},
   "outputs": [],
   "source": [
    "d_ohlcv = {'open': 'first',\n",
    "           'high': 'max',\n",
    "           'low': 'min',\n",
    "           'close': 'last',\n",
    "           'volume': 'sum'}\n",
    "\n",
    "sdf_w = sdf.resample('W-MON',# ダウンサンプリングの単位をWeekにし、その開始を月曜日（MON)にする\n",
    "                     closed='left', # 開始と終了のどちらを含めるか（開始を含める）\n",
    "                     label='left' # 開始と終了のどちらの日時をラベルにするか\n",
    "                    ).agg(d_ohlcv) # DataFrame形式\n",
    "sdf_w.head()"
   ]
  },
  {
   "cell_type": "markdown",
   "metadata": {},
   "source": [
    "ローソク足チャートを描画するために、DataFrameを二次元配列のリストに変換します。   \n",
    "これはWebDataProcessing3.ipynbでやった処理と同じです。"
   ]
  },
  {
   "cell_type": "code",
   "execution_count": null,
   "metadata": {},
   "outputs": [],
   "source": [
    "from datetime import datetime\n",
    "import matplotlib.dates as mdates\n",
    "\n",
    "start = datetime(2018, 4, 1)\n",
    "end = datetime(2019, 3, 31)\n",
    "\n",
    "ohlc = sdf_w.loc[start:end, ['open', 'high', 'low', 'close']] # 出来高は単位が違うので除く\n",
    "ohlc.index = mdates.date2num(ohlc.index.to_pydatetime()) # indexをdatetime形式から数値に変換\n",
    "data = ohlc.reset_index().values # matrixに変換"
   ]
  },
  {
   "cell_type": "code",
   "execution_count": null,
   "metadata": {},
   "outputs": [],
   "source": [
    "%matplotlib inline\n",
    "\n",
    "import matplotlib.pyplot as plt\n",
    "import mpl_finance\n",
    "import matplotlib.dates as mdates\n",
    "\n",
    "fig = plt.figure(figsize=(7, 3)) # figure(図を配置する画面)のサイズを指定\n",
    "ax = plt.subplot()\n",
    "mpl_finance.candlestick_ohlc(ax, data, width=4, colorup='g', colordown='r')\n",
    "ax.grid()  # グリッド表示\n",
    "locator = mdates.AutoDateLocator() # x軸(xaxis)を日付(Date)単位(major)のラベルにする(set)\n",
    "#locator = mdates.DayLocator() # x軸を日単位のラベルにする\n",
    "#locator = mdates.MonthLocator() # x軸を月単位のラベルにする\n",
    "#locator = mdates.YearLocator() # x軸を年単位のラベルにする\n",
    "ax.xaxis.set_major_locator(locator)\n",
    "ax.xaxis.set_major_formatter(mdates.AutoDateFormatter(locator))\n",
    "fig.autofmt_xdate() # X軸の日付ラベルが見やすくなるよう回転\n",
    "plt.savefig('fig/WebDataProcessing4-2.png') # 図を画像として保存"
   ]
  },
  {
   "cell_type": "markdown",
   "metadata": {},
   "source": [
    "## 3. n項移動平均\n",
    "\n",
    "移動平均もまた時系列データおいて一般的な概念です。   \n",
    "nは区間数です。\n",
    "\n",
    "株価はその日その日でランダムに変わるのではなく、長期的に見れば山や谷があり、上がる傾向や下がる傾向があります（これらをそれぞれ上昇トレンド、下降トレンドと呼ぶそうです）。   \n",
    "このような傾向をとらえるためには、その日を含め、過去の一定期間の株価の平均を可視化してみることが有効です。   \n",
    "常に過去n個分（データによってn日分やn週間分など）の平均値からなるデータをn項移動平均と呼びます。   \n",
    "過去何日分を取るのかは人によるようですが、5日間、25日間、50日間などがよく使われるようです。   \n",
    "ここで、この5日間には株式市場の休場日（すなわち株価データが欠落している日）は含まないのが一般的なようです。\n",
    "\n",
    "日足データに対し、各時点で、その時点から過去の$n$個分のデータを切り出すには`rolling`という関数が利用できます。   \n",
    "ここでは、長さ5個、25個、50個の時系列データを切り出しましょう。   \n",
    "さらに、そのそれぞれの時系列データに対し、関数`mean()`で平均値に変換しましょう。   \n",
    "これにより、各時点に対し1つの平均値が計算されます。"
   ]
  },
  {
   "cell_type": "code",
   "execution_count": null,
   "metadata": {},
   "outputs": [],
   "source": [
    "sdf['mean-5D'] = sdf.loc[:, 'close'].rolling(5).mean()\n",
    "sdf['mean-25D'] = sdf.loc[:, 'close'].rolling(25).mean()\n",
    "sdf['mean-50D'] = sdf.loc[:, 'close'].rolling(50).mean()\n",
    "mean_labels = ['mean-5D', 'mean-25D', 'mean-50D']"
   ]
  },
  {
   "cell_type": "markdown",
   "metadata": {},
   "source": [
    "ローソク足チャートの上に移動平均の折れ線グラフを重ねて描画してみましょう。"
   ]
  },
  {
   "cell_type": "code",
   "execution_count": null,
   "metadata": {},
   "outputs": [],
   "source": [
    "%matplotlib inline\n",
    "\n",
    "import matplotlib.pyplot as plt\n",
    "import mpl_finance\n",
    "import matplotlib.dates as mdates\n",
    "from datetime import datetime\n",
    "from pandas.plotting import register_matplotlib_converters\n",
    "\n",
    "register_matplotlib_converters() # converterをリセット\n",
    "\n",
    "fig = plt.figure(figsize=(7, 3)) # figure(図を配置する画面)のサイズを指定\n",
    "ax = plt.subplot()\n",
    "\n",
    "ax.plot(sdf[start:end].index, sdf.loc[start:end, 'mean-5D'])\n",
    "ax.plot(sdf[start:end].index, sdf.loc[start:end, 'mean-25D'])\n",
    "ax.plot(sdf[start:end].index, sdf.loc[start:end, 'mean-50D'])\n",
    "ax.legend(mean_labels) # 凡例を描画\n",
    "mpl_finance.candlestick_ohlc(ax, data, width=4, colorup='g', colordown='r')\n",
    "ax.grid() # グリッドを描画\n",
    "\n",
    "locator = mdates.MonthLocator() # x軸を月単位のラベルにする\n",
    "ax.xaxis.set_major_locator(locator)\n",
    "ax.xaxis.set_major_formatter(mdates.AutoDateFormatter(locator))\n",
    "fig.autofmt_xdate() # X軸の日付ラベルが見やすくなるよう回転\n",
    "plt.savefig('fig/WebDataProcessing4-3.png') # 図を画像として保存"
   ]
  },
  {
   "cell_type": "markdown",
   "metadata": {},
   "source": [
    "rollingで切り出した各時系列データに対する処理は、resampleと同じものもあり、違うものもあります。   \n",
    "くわしくは[こちら](https://pandas.pydata.org/pandas-docs/stable/reference/window.html)を見てください。"
   ]
  },
  {
   "cell_type": "markdown",
   "metadata": {},
   "source": [
    "## 4. グラフを並べて表示\n",
    "\n",
    "### 4.1 出来高グラフを追加\n",
    "\n",
    "出来高グラフを追加してみましょう。   \n",
    "出来高とは、取引が成立した株の数で、棒グラフで表すのが普通です。   \n",
    "これを上で生成したグラフの下に追加します。"
   ]
  },
  {
   "cell_type": "code",
   "execution_count": null,
   "metadata": {
    "scrolled": true
   },
   "outputs": [],
   "source": [
    "%matplotlib inline\n",
    "\n",
    "import matplotlib.pyplot as plt\n",
    "import mpl_finance\n",
    "import matplotlib.dates as mdates\n",
    "from datetime import datetime\n",
    "import matplotlib.gridspec as gridspec\n",
    "from pandas.plotting import register_matplotlib_converters\n",
    "\n",
    "register_matplotlib_converters() # コンバータをリセット\n",
    "\n",
    "fig = plt.figure(figsize=(6, 4))\n",
    "\n",
    "# 1つのfigureを分割し、そのいくつかの領域を一つのグラフ領域に指定する処理\n",
    "G = gridspec.GridSpec(3,1) # figureを縦３つ、横１つに分割(Gはリストであることに注意)\n",
    "ax0 = plt.subplot(G[:2,0]) # 縦0～１（２つ分）、横0(１つ分)の領域をax0とする\n",
    "ax1 = plt.subplot(G[2,0]) # 縦2 (１つ分)、横０（１つ分）の領域をax1とする\n",
    "\n",
    "start = datetime(2018, 9, 1)\n",
    "end = datetime(2019, 3, 31)\n",
    "\n",
    "ohlc = sdf_w.loc[start:end, ['open', 'high', 'low', 'close']] # 出来高は単位が違うので除く\n",
    "ohlc.index = mdates.date2num(ohlc.index.to_pydatetime()) # indexをdatetime形式から数値に変換\n",
    "\n",
    "data = ohlc.reset_index().values # matrixに変換\n",
    "\n",
    "ax0.plot(sdf[start:end].index, sdf.loc[start:end, 'mean-5D'])\n",
    "ax0.plot(sdf[start:end].index, sdf.loc[start:end, 'mean-25D'])\n",
    "ax0.plot(sdf[start:end].index, sdf.loc[start:end, 'mean-50D'])\n",
    "ax0.legend(mean_labels) # 凡例を描画\n",
    "mpl_finance.candlestick_ohlc(ax0, data, width=4, colorup='g', colordown='r')\n",
    "ax0.grid() # グリッドを描画\n",
    "locator = mdates.MonthLocator() # x軸を月単位のラベルにする\n",
    "ax0.xaxis.set_major_locator(locator)\n",
    "ax0.xaxis.set_major_formatter(mdates.AutoDateFormatter(locator))\n",
    "ax0.set_xlim([start, end])\n",
    "\n",
    "ax1.bar(sdf_w[start:end].index, sdf_w.loc[start:end, 'volume'], width = 4.0)\n",
    "ax1.grid()\n",
    "ax1.xaxis.set_major_locator(locator)\n",
    "ax1.xaxis.set_major_formatter(mdates.AutoDateFormatter(locator))\n",
    "ax1.set_xlim([start, end])\n",
    "\n",
    "fig.autofmt_xdate() # X軸の日付ラベルが見やすくなるよう回転\n",
    "fig.tight_layout() # 図がはみ出さないようにレイアウト\n",
    "plt.show()"
   ]
  },
  {
   "cell_type": "markdown",
   "metadata": {},
   "source": [
    "### 4.2 移動平均乖離率を追加\n",
    "\n",
    "現在の株価が移動平均から何％ずれているのかを示す指標を「移動平均乖離率」と呼びます。   \n",
    "移動平均乖離率は以下のようにして計算できます。\n",
    "\n",
    "[移動平均乖離率] = ([終値] - [n項移動平均]) / [n項移動平均] * 100 \n"
   ]
  },
  {
   "cell_type": "code",
   "execution_count": null,
   "metadata": {},
   "outputs": [],
   "source": [
    "sdf['diff-5D'] = (sdf['close'] - sdf['mean-5D'])/sdf['mean-5D'] * 100\n",
    "sdf['diff-25D'] = (sdf['close'] - sdf['mean-25D'])/sdf['mean-25D'] * 100\n",
    "sdf['diff-50D'] = (sdf['close'] - sdf['mean-50D'])/sdf['mean-50D'] * 100\n",
    "diff_labels = ['diff-5d', 'diff-25D', 'diff-50D']"
   ]
  },
  {
   "cell_type": "markdown",
   "metadata": {},
   "source": [
    "上の図に移動平均乖離率の棒グラフも追加してみましょう。"
   ]
  },
  {
   "cell_type": "code",
   "execution_count": null,
   "metadata": {},
   "outputs": [],
   "source": [
    "%matplotlib inline\n",
    "\n",
    "import matplotlib.pyplot as plt\n",
    "import mpl_finance\n",
    "import matplotlib.dates as mdates\n",
    "from datetime import datetime\n",
    "import matplotlib.gridspec as gridspec\n",
    "from pandas.plotting import register_matplotlib_converters\n",
    "\n",
    "register_matplotlib_converters()\n",
    "\n",
    "fig = plt.figure(figsize=(6, 4))\n",
    "G = gridspec.GridSpec(6,1)\n",
    "ax0 = plt.subplot(G[:2,0]) # 1つ目のグラフの位置指定\n",
    "ax1 = plt.subplot(G[2:4,0]) # 2つ目のグラフの位置指定\n",
    "ax2 = plt.subplot(G[4:5,0]) # 3つ目のグラフの位置指定\n",
    "\n",
    "start = datetime(2018, 4, 1)\n",
    "end = datetime(2019, 3, 31)\n",
    "\n",
    "ohlc = sdf_w.loc[start:end, ['open', 'high', 'low', 'close']] # 出来高は単位が違うので除く\n",
    "ohlc.index = mdates.date2num(ohlc.index.to_pydatetime()) # indexをdatetime形式から数値に変換\n",
    "\n",
    "data = ohlc.reset_index().values # matrixに変換\n",
    "\n",
    "ax0.plot(sdf[start:end].index, sdf.loc[start:end, 'mean-5D'])\n",
    "ax0.plot(sdf[start:end].index, sdf.loc[start:end, 'mean-25D'])\n",
    "ax0.plot(sdf[start:end].index, sdf.loc[start:end, 'mean-50D'])\n",
    "ax0.legend(mean_labels) # 凡例を描画\n",
    "mpl_finance.candlestick_ohlc(ax0, data, width=4, colorup='g', colordown='r')\n",
    "ax0.grid() # グリッドを描画\n",
    "ax0.tick_params(labelbottom=\"off\") # x軸の削除\n",
    "ax0.set_xlim([start, end])\n",
    "\n",
    "ax1.plot(sdf[start:end].index, sdf.loc[start:end, 'diff-5D'])\n",
    "ax1.plot(sdf[start:end].index, sdf.loc[start:end, 'diff-25D'])\n",
    "ax1.plot(sdf[start:end].index, sdf.loc[start:end, 'diff-50D'])\n",
    "ax1.legend(diff_labels) # 凡例を描画\n",
    "ax1.grid()  # グリッド表示\n",
    "ax1.tick_params(labelbottom=\"off\") # x軸の削除\n",
    "ax1.set_xlim([start, end])\n",
    "\n",
    "ax2.bar(sdf_w[start:end].index, sdf_w.loc[start:end, 'volume'], width=4.0)\n",
    "ax2.grid()\n",
    "locator = mdates.MonthLocator() # x軸を月単位のラベルにする\n",
    "ax2.xaxis.set_major_locator(locator)\n",
    "ax2.xaxis.set_major_formatter(mdates.AutoDateFormatter(locator))\n",
    "ax2.set_xlim([start, end])\n",
    "plt.setp(ax2.get_xticklabels(), rotation=30, horizontalalignment='right')# 軸を右揃えにして斜めに\n",
    "plt.savefig('fig/WebDataProcessing4-4.png') # 図を画像として保存"
   ]
  }
 ],
 "metadata": {
  "kernelspec": {
   "display_name": "Python 3",
   "language": "python",
   "name": "python3"
  },
  "language_info": {
   "codemirror_mode": {
    "name": "ipython",
    "version": 3
   },
   "file_extension": ".py",
   "mimetype": "text/x-python",
   "name": "python",
   "nbconvert_exporter": "python",
   "pygments_lexer": "ipython3",
   "version": "3.7.7"
  }
 },
 "nbformat": 4,
 "nbformat_minor": 2
}
