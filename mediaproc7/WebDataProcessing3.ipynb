{
 "cells": [
  {
   "cell_type": "markdown",
   "metadata": {},
   "source": [
    "# Colaboratoryで実行する場合\n",
    "以下を実行して、外部ファイルをダウンロードしてください。   \n",
    "**このセルはColaboratoryを起動するたびに必要となります**   "
   ]
  },
  {
   "cell_type": "code",
   "execution_count": null,
   "metadata": {},
   "outputs": [],
   "source": [
    "##################################\n",
    "### Colaboratoryのみ以下を実行 ###\n",
    "##################################\n",
    "import sys\n",
    "if 'google.colab' in sys.modules:\n",
    "    !wget http://www.hal.t.u-tokyo.ac.jp/~yamakata/lecture/mediaproc/mediaproc7/stock.csv\n",
    "    !pip install mpl_finance\n",
    "    !mkdir fig"
   ]
  },
  {
   "cell_type": "markdown",
   "metadata": {},
   "source": [
    "# ウェブデータ処理３：株価データの表現と可視化\n",
    "\n",
    "\n",
    "## 1. 株価の取得と記録\n",
    "\n",
    "pandas_datareaderは、株価や為替に関する情報や、各種統計データにリアルタイムでアクセスすることを可能とするパッケージです。   \n",
    "[pandas-datareaderマニュアル](https://pydata.github.io/pandas-datareader/devel/remote_data.html#iex)\n",
    "\n",
    "datareaderのサービスを提供しているサイトには以下のようなものがあります。   \n",
    "これらのサービスは変更される可能性があります。最新は[こちら](https://pandas-datareader.readthedocs.io/en/latest/readers/index.html)を確認してください。\n",
    "\n",
    "- Federal Reserve Economic Data (FRED)\n",
    "- Fama-French Data (Ken French’s Data Library)\n",
    "- Bank of Canada\n",
    "- Engima\n",
    "- Eurostat\n",
    "- The Investors Exchange (IEX)\n",
    "- Moscow Exchange (MOEX)\n",
    "- Morningstar\n",
    "- NASDAQ\n",
    "- Organisation for Economic Co-operation and Development (OECD)\n",
    "- Quandl\n",
    "- Robinhood\n",
    "- Stooq.com\n",
    "- Tiingo\n",
    "- Thrift Savings Plan (TSP)\n",
    "- World Bank\n",
    "\n",
    "### 1.1 オンラインからの株価の取得\n",
    "\n",
    "pandas_datareaderを使ってトヨタの株価を取得してみましょう。   \n",
    "\n",
    "ここでは[Stooq](https://stooq.com)というポーランドの会社からデータを取得しましょう。   \n",
    "**Stooqは一日あたり250回のアクセス制限があるので注意してください。**\n",
    "\n",
    "DataReaderの第１引数である`'TM.US'`はNasdaqが定めたTOYOTA MOTOR CORPのティッカーコード（銘柄コード）`'TM'`に、米国市場であることを示す`'US'`を加えたものです。\n",
    "\n",
    "**Warningが出るかもしれませんが無視してください（pandas_datareaderが新しいpandasの仕様に対応していないことによるものです。）**   \n",
    "**ここでエラーが出た人は2.に進んで下さい。**"
   ]
  },
  {
   "cell_type": "code",
   "execution_count": null,
   "metadata": {},
   "outputs": [],
   "source": [
    "import pandas_datareader.data as web\n",
    "from datetime import datetime\n",
    "\n",
    "df = web.DataReader('TM.US', 'stooq') # Stooqではデータ取得時にstartとendによるデータ制限ができません\n",
    "df.head(5) # 最初の5行を出力"
   ]
  },
  {
   "cell_type": "markdown",
   "metadata": {},
   "source": [
    "以上のプログラムで取得できた情報は以下の5種類です。  \n",
    "このうちOpen, High, Low, Closeの単位はドルです。これら４つを合わせてOHLCという略称で呼ぶこともあります。   \n",
    "出来高はその日売買が成立した株数のことで、これだけ単位が違います。\n",
    "\n",
    "```\n",
    "Open : 始値\n",
    "High : 高値\n",
    "Low : 安値\n",
    "Close : 終値\n",
    "Volume: 出来高\n",
    "```"
   ]
  },
  {
   "cell_type": "markdown",
   "metadata": {},
   "source": [
    "## 1.2 取得銘柄の変更\n",
    "\n",
    "米国市場における株式のティッカーコードはニューヨーク証券取引所やNASDAQで決められます。   \n",
    "Stooqにおけるシンボル(Indexとも呼びます）は以下のページの左上のテキストボックスで、企業名を検索すると見つけることができます。\n",
    "\n",
    "[Stooq.com](https://stooq.com)\n",
    "\n",
    "たとえば、\"Toyota\"を入力すると、以下の6つが出てくるはずです。\n",
    "\n",
    "- TM.US：Toyota Motor Corp＠米国市場\n",
    "- 7203.JP：トヨタ自動車＠日本市場\n",
    "- TM.UK ：Toyota Motor Corp＠英国市場\n",
    "- 6201.JP：豊田自動織機＠日本市場\n",
    "- 8015.JP：豊田通商＠日本市場\n",
    "- 3116.JP：トヨタ紡織＠日本市場\n",
    "\n",
    "米国市場におけるToyota Motor Corpの株価データを取得したい場合は、コードを`TM.US`と指定するわけです。\n",
    "\n",
    "ティッカーシンボルを書き換えて、他の企業の株価も取得してみましょう。   \n",
    "例えば米国市場で取引されている株式だと…\n",
    "- TM.US: TOYOTA MOTOR CORP\n",
    "- HMC.US: HONDA MOTOR CO LTD\n",
    "- CAJ.US: CANON INC\n",
    "- MFG.US: MIZUHO FINANCIAL GROUP\n",
    "- SNE.US: SONY CORP\n",
    "- AAPL.US: APPLE INC\n",
    "- GOOG.US: ALPHABET INC-CL C (無議決権株)\n",
    "- GOOGL.US: ALPHABET INC-CL A (議決権有り）\n",
    "\n",
    "IEXではニューヨーク証券取引所かNASDAQに上場している企業のみ（日本企業は14社程度）が対象でしたが、   \n",
    "Stooqは日本市場の株式データも扱っています。   \n",
    "日本市場の株式は、銘柄コードの後に`.JP`をつければOKです。   "
   ]
  },
  {
   "cell_type": "code",
   "execution_count": null,
   "metadata": {
    "scrolled": true
   },
   "outputs": [],
   "source": [
    "import pandas_datareader.data as web\n",
    "from datetime import datetime\n",
    "\n",
    "df2 = web.DataReader('7203.JP', 'stooq')\n",
    "df2.head(5) # 最初の5行だけ表示"
   ]
  },
  {
   "cell_type": "markdown",
   "metadata": {},
   "source": [
    "###  1.3 csvファイルへの記録\n",
    "\n",
    "pandas-datareaderのように、Webサーバにアクセスして情報を取得するサービスでは、同じユーザから大量のアクセスが自動的に送られてくるのを防ぐため、単位時間当たり〇〇回まで、といったアクセス制限が設けられています。   \n",
    "それを超えるとエラーメッセージが返ってくるので、同じデータは毎回Webから取ってくるのではなく、自分のコンピュータに保存しておくようにしましょう。   \n",
    "\n",
    "pandasはDataFrameをcsv形式に変換して保存するモジュールを用意しています。  \n",
    "取得したデータを`stock.csv`という名前で保存します。"
   ]
  },
  {
   "cell_type": "code",
   "execution_count": null,
   "metadata": {},
   "outputs": [],
   "source": [
    "df.to_csv(\"stock.csv\")"
   ]
  },
  {
   "cell_type": "markdown",
   "metadata": {},
   "source": [
    "## 2.  csvファイルの読み込み\n",
    "\n",
    "csvファイルはExcelで開いてみることができます。   \n",
    "このノートブックが置かれているフォルダに株価の履歴を記録した`stock.csv`ができているはずなので、これをExcelで開いてみてください。   \n",
    "ただし、**上書き保存は絶対にしないでください。**  \n",
    "Excelは日付や数値を独自形式に書き換えてしまうことがあり、それを保存するとデータの内容が変わってしまい、以下のプログラムが動作しなくなる可能性があります。  \n",
    "たとえば日付を勝手に違うフォーマットに書き換えてしまいます（例：「2019-04-01」-->「2019/4/1」）\n",
    "\n",
    "csvファイルをpandasで読み込んで、`date`キーの値を\n",
    "最初の5行だけを表示して見ましょう。   \n",
    "途中、いくつか処理をしていますが、その内容は授業で説明します。   "
   ]
  },
  {
   "cell_type": "code",
   "execution_count": null,
   "metadata": {},
   "outputs": [],
   "source": [
    "import pandas as pd\n",
    "\n",
    "sdf = pd.read_csv('stock.csv')\n",
    "sdf['date'] = pd.to_datetime(sdf['Date']) # 'Date'キーの値は日付を表す文字列なので、to_datetimeを適用してdatetime64型に変換\n",
    "sdf.set_index('date', inplace=True) # 次に、set_index()メソッドで'date'キーの列をインデックスに指定する。\n",
    "sdf.head(5)"
   ]
  },
  {
   "cell_type": "markdown",
   "metadata": {},
   "source": [
    "## 3 ローソク足チャートを表示しよう\n",
    "\n",
    "株価と言えばローソク足チャートですね。   \n",
    "\n",
    "```\n",
    "ローソク足チャート（ローソクあしチャート）は、株価などの相場の値動きを時系列に沿って図表として表す手法の一つ。ローソクチャートともいう。\n",
    "\n",
    "単位期間を定め、単位期間中に初めに付いた値段を始値（はじめね）、最後に付いた値段を終値（おわりね）、最も高い値段を高値（たかね）、最も安い値段を安値（やすね）とし、この四種の値段（四本値＝よんほんね）をローソクと呼ばれる一本の棒状の図形に作図し、時系列に沿って並べて値段の変動をグラフとして表したものである。\n",
    "\n",
    "```\n",
    "参照：[Wikipedia::ローソク足チャート](https://ja.wikipedia.org/wiki/%E3%83%AD%E3%83%BC%E3%82%BD%E3%82%AF%E8%B6%B3%E3%83%81%E3%83%A3%E3%83%BC%E3%83%88)\n",
    "\n",
    "matplotlibで頑張ってローソク足チャートを描くこともできますが、ここではローソク足チャートを簡単に描画できる`mpl_finance`というモジュールを使います。   \n",
    "[mpl_financeのHP](https://pypi.org/project/mpl-finance/)   \n",
    "\n",
    "`mpl_finance`はかつては`matplotlib.finance`という名前で、`matplotlib`のサブモジュールでしたが、matplotlibがversion 2.0にアップデートした際に別モジュールとして切り離されました（[参照](https://matplotlib.org/api/finance_api.html))。\n",
    "\n",
    "### 3.1 前処理\n",
    "\n",
    "mpl_finance.candlestick_ohlcという関数を使ってローソク足チャートを描画します。  \n",
    "まず、この関数が受け付ける形式に株価データを変形しましょう。   \n",
    "この関数は、1行目から時間順に株価データが並んでおり、1列目に日付（ただし数値化されたもの）、2～4列目にOpen, High, Low, Closeが並んだ二次元配列を受け取ります。  \n",
    "このようなohlcを作成します。"
   ]
  },
  {
   "cell_type": "code",
   "execution_count": null,
   "metadata": {},
   "outputs": [],
   "source": [
    "from datetime import datetime\n",
    "\n",
    "start = datetime(2018, 12, 14) # 開始日\n",
    "end = datetime(2019, 1, 10) # 終了日\n",
    "\n",
    "ohlc = sdf.loc[end:start, ['Open', 'High', 'Low', 'Close']] # 出来高以外の値をコピー\n",
    "ohlc.head() # どのようなデータなのか、最初の5行を出力"
   ]
  },
  {
   "cell_type": "markdown",
   "metadata": {},
   "source": [
    "このDataFrameのインデックスはdatetime形式です。  \n",
    "これを、matplotlibのdatesという関数を使って数値に直します。   \n",
    "これは、西暦1年1月1日を1日目として、その日が何日目であるかを表した数値です。"
   ]
  },
  {
   "cell_type": "code",
   "execution_count": null,
   "metadata": {},
   "outputs": [],
   "source": [
    "import matplotlib.dates as mdates\n",
    "\n",
    "ohlc.index = mdates.date2num(ohlc.index) # indexをdatetime形式から数値に変換\n",
    "ohlc.head() # indexが日付から数値になりました"
   ]
  },
  {
   "cell_type": "markdown",
   "metadata": {},
   "source": [
    "DataFrameを二次元配列のリストに変換します。"
   ]
  },
  {
   "cell_type": "code",
   "execution_count": null,
   "metadata": {},
   "outputs": [],
   "source": [
    "data = ohlc.reset_index().values # DataFrameを二次元配列のリストに変換\n",
    "print(data[:5,:])"
   ]
  },
  {
   "cell_type": "markdown",
   "metadata": {},
   "source": [
    "### 3.2 ローソク足チャートの描画\n",
    "\n",
    "いよいよmpl_finance.candlestick_ohlcでローソク足を描画しましょう。  \n",
    "図が見やすくなるように、いろいろなパラメータを設定しています。   \n",
    "それらを変更したり消したりすると図がどう変化するか試してみましょう。\n",
    "\n",
    "ここでは、X軸のlocatorとformatterを設定しています。   \n",
    "- locatorは軸の間隔を設定します\n",
    " + set_major_locator: 主軸の間隔\n",
    " + set_minor_locator: 補助軸の間隔\n",
    "- formatterは軸ラベルの書式を設定します\n",
    " + set_major_formatter: 主軸のラベル\n",
    " + set_minor_formatter: 補助軸のラベル\n",
    "\n",
    "locatorやformatterは指定するパラメータによって、毎月15日、2日おき、毎週月・木、3か月おきなど、様々な設定が可能です。   \n",
    "[マニュアル](https://matplotlib.org/api/dates_api.html)を見て、パラメータを変更してみましょう\n"
   ]
  },
  {
   "cell_type": "code",
   "execution_count": null,
   "metadata": {
    "scrolled": true
   },
   "outputs": [],
   "source": [
    "%matplotlib inline\n",
    "import matplotlib.pyplot as plt\n",
    "import mpl_finance\n",
    "import matplotlib.dates as mdates\n",
    "from matplotlib.dates import MO, TU, WE, TH, FR, SA, SU # locatorをWeekdayLocatorにするなら必要\n",
    "\n",
    "\n",
    "fig = plt.figure(figsize=(7, 3)) # figure(図を配置する画面)のサイズを指定\n",
    "ax = plt.subplot() # figureには複数の図を配置できるので、そのうち図を1つ描画する空間を準備\n",
    "\n",
    "# mpl_financeのcandlestick_ohlc関数を使ってローソク足を描画\n",
    "mpl_finance.candlestick_ohlc(ax, data, width=0.7, colorup='g', colordown='r')\n",
    "\n",
    "ax.grid()  # グリッド表示を描画\n",
    "\n",
    "############# X軸のlocator の設定 #################\n",
    "#locator = mdates.AutoDateLocator() #  # x軸の主軸の間隔を自動調整する\n",
    "#locator = mdates.DayLocator(bymonthday=None, interval=2) # x軸を主軸の間隔を日単位にする。毎月15日や2日おきなども可能\n",
    "#locator = mdates.WeekdayLocator(byweekday=(MO, TH))  # x軸の主軸の間隔を毎週月木にする\n",
    "locator = mdates.WeekdayLocator(byweekday=(MO))  # x軸の主軸の間隔を毎週月木にする\n",
    "#locator = mdates.MonthLocator() # x軸の主軸の間隔を月単位にする\n",
    "#locator = mdates.YearLocator() # x軸の主軸の間隔を年単位にする\n",
    "ax.xaxis.set_major_locator(locator) # X軸の主軸の間隔を設定\n",
    "ax.xaxis.set_minor_locator(mdates.DayLocator()) # X軸の補助軸の間隔を日付に設定（X軸にメモリが追加される）\n",
    "\n",
    "############# X軸のformatterの設定 #################\n",
    "ax.xaxis.set_major_formatter(mdates.AutoDateFormatter(locator)) # X軸の主軸のラベルをdateフォーマットにする\n",
    "\n",
    "fig.autofmt_xdate() # X軸の日付ラベルが見やすくなるよう回転\n",
    "#plt.setp(ax.get_xticklabels(), rotation=30, horizontalalignment='right')# 軸を右揃えにして斜めに\n",
    "fig.tight_layout() # 図がはみ出さないようにレイアウト\n",
    "plt.savefig('fig/WebDataProcessing3.png') # 図を画像として保存"
   ]
  }
 ],
 "metadata": {
  "kernelspec": {
   "display_name": "Python 3",
   "language": "python",
   "name": "python3"
  },
  "language_info": {
   "codemirror_mode": {
    "name": "ipython",
    "version": 3
   },
   "file_extension": ".py",
   "mimetype": "text/x-python",
   "name": "python",
   "nbconvert_exporter": "python",
   "pygments_lexer": "ipython3",
   "version": "3.7.7"
  }
 },
 "nbformat": 4,
 "nbformat_minor": 2
}
